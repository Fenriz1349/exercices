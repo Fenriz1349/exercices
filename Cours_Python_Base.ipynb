{
  "nbformat": 4,
  "nbformat_minor": 0,
  "metadata": {
    "colab": {
      "provenance": [],
      "toc_visible": true,
      "authorship_tag": "ABX9TyMkKTgqmjo+RcEUAQP7B8GK",
      "include_colab_link": true
    },
    "kernelspec": {
      "name": "python3",
      "display_name": "Python 3"
    },
    "language_info": {
      "name": "python"
    }
  },
  "cells": [
    {
      "cell_type": "markdown",
      "metadata": {
        "id": "view-in-github",
        "colab_type": "text"
      },
      "source": [
        "<a href=\"https://colab.research.google.com/github/Fenriz1349/exercices/blob/main/Cours_Python_Base.ipynb\" target=\"_parent\"><img src=\"https://colab.research.google.com/assets/colab-badge.svg\" alt=\"Open In Colab\"/></a>"
      ]
    },
    {
      "cell_type": "markdown",
      "source": [
        "# SECTION\n",
        "\n"
      ],
      "metadata": {
        "id": "vRHxlWxNTU1x"
      }
    },
    {
      "cell_type": "markdown",
      "source": [
        "Tableau à 2 dimensions :\n",
        "\n",
        ">declaration Var[0]=[1,2,3]\n",
        "\n",
        "> acceder à element : Var[0][1]\n",
        "\n",
        "\n",
        "\n",
        "\n",
        "\n"
      ],
      "metadata": {
        "id": "zJuFvQgJrb2z"
      }
    },
    {
      "cell_type": "markdown",
      "source": [
        "Boucle For et dictionnaire: elle boucle sur l'indice du dictionnaire, et donc dico[i] accede à la valeur"
      ],
      "metadata": {
        "id": "XHFZAMeVNhaA"
      }
    },
    {
      "cell_type": "markdown",
      "source": [],
      "metadata": {
        "id": "hML9UgdNUGxy"
      }
    },
    {
      "cell_type": "code",
      "execution_count": null,
      "metadata": {
        "id": "yXj9fsl4TGYa"
      },
      "outputs": [],
      "source": [
        "a=2*4\n",
        "print (a)"
      ]
    },
    {
      "cell_type": "markdown",
      "source": [
        "ecrire un programme qui permet d'afficher 2 phrases, puis les concatener dans une 3eme et l'afficher\n"
      ],
      "metadata": {
        "id": "lSuKC9Dmwerk"
      }
    },
    {
      "cell_type": "code",
      "source": [
        "a='Hello'\n",
        "b='Fen'\n",
        "c=a+' '+b\n",
        "print(a,b,c)"
      ],
      "metadata": {
        "id": "Wm2AJSKCweJQ"
      },
      "execution_count": null,
      "outputs": []
    },
    {
      "cell_type": "markdown",
      "source": [
        "ecrire un programme qui permet d'additionner 2 varialbes et d'increment cette variable par son même nombre"
      ],
      "metadata": {
        "id": "LFHUdaRxxM4h"
      }
    },
    {
      "cell_type": "code",
      "source": [
        "a=2\n",
        "b=3\n",
        "c=a+b\n",
        "print('la somme de a+b est de :',c)\n",
        "c+=c\n",
        "print(c)"
      ],
      "metadata": {
        "id": "z_uguAeMxNF7"
      },
      "execution_count": null,
      "outputs": []
    },
    {
      "cell_type": "markdown",
      "source": [
        "un programme qui permet de faire la division d'un nombre, afficher le resultat et son reste"
      ],
      "metadata": {
        "id": "F1jrG0Vh0LYh"
      }
    },
    {
      "cell_type": "code",
      "source": [
        "a=6\n",
        "b=2\n",
        "print('la divison de ',a,\" et \",b,' est ',a/b,' et son reste est ',a%b)"
      ],
      "metadata": {
        "id": "ufRgdTCX0LhK"
      },
      "execution_count": null,
      "outputs": []
    },
    {
      "cell_type": "markdown",
      "source": [
        "calculer à partir du rayon et de la hauteur le volume d'un cone"
      ],
      "metadata": {
        "id": "mVMxk2GP4LoU"
      }
    },
    {
      "cell_type": "code",
      "source": [
        "import math\n",
        "rayon =int(input('quel est le rayon?'))\n",
        "hauteur =int(input('quel est la hauteur?'))\n",
        "print('le volume du cone est de',(1/3)*math.pi*rayon*rayon*hauteur)"
      ],
      "metadata": {
        "id": "pVr47ERS4Lxb"
      },
      "execution_count": null,
      "outputs": []
    },
    {
      "cell_type": "markdown",
      "source": [
        "afficher  le discriminant de x2+2x-4"
      ],
      "metadata": {
        "id": "M4qRxW0zTx_f"
      }
    },
    {
      "cell_type": "code",
      "source": [
        "a =int(input('quel est a? '))\n",
        "b =int(input('quel est b? '))\n",
        "c=-4\n",
        "delta= (b*b)-(4*a*c)\n",
        "print('le discriminant est',delta)"
      ],
      "metadata": {
        "colab": {
          "base_uri": "https://localhost:8080/"
        },
        "id": "MQTEPmeeTyTK",
        "outputId": "4d4a7fe6-7bb0-44a2-aca8-4d2ce44db134"
      },
      "execution_count": null,
      "outputs": [
        {
          "output_type": "stream",
          "name": "stdout",
          "text": [
            "quel est a? 1\n",
            "quel est b? 2\n",
            "le discriminant est 20\n"
          ]
        }
      ]
    },
    {
      "cell_type": "markdown",
      "source": [
        "ecrivez un script qui lit un nomber et affiche sa conversion de farenheit à celcius"
      ],
      "metadata": {
        "id": "S0wq9yNyWrNZ"
      }
    },
    {
      "cell_type": "code",
      "source": [
        "temp=int(input('quelle est la temperatuer en degres Ferenheint ? '))\n",
        "print('la conversion donne :',(temp-32)/1.8,' °Celcius')"
      ],
      "metadata": {
        "colab": {
          "base_uri": "https://localhost:8080/"
        },
        "id": "i1WBGUCuWrdk",
        "outputId": "c2dc2131-f492-42d6-e8e9-5b96ab82d552"
      },
      "execution_count": null,
      "outputs": [
        {
          "output_type": "stream",
          "name": "stdout",
          "text": [
            "quelle est la temperatuer en degres Ferenheint ? 100\n",
            "la conversion donne : 37.77777777777778  °Celcius\n"
          ]
        }
      ]
    },
    {
      "cell_type": "code",
      "source": [],
      "metadata": {
        "id": "7044Ljs7o9rK"
      },
      "execution_count": null,
      "outputs": []
    },
    {
      "cell_type": "markdown",
      "source": [
        "ecrire une fonction somme"
      ],
      "metadata": {
        "id": "-iRExlrqo4bx"
      }
    },
    {
      "cell_type": "code",
      "source": [
        "def somme (a,b):\n",
        "  return a+b\n",
        "nb1=float(input('premier nombre '))\n",
        "nb2=float(input('second nombre '))\n",
        "print(somme(nb1,nb2))\n"
      ],
      "metadata": {
        "colab": {
          "base_uri": "https://localhost:8080/"
        },
        "id": "DuZgZZnIa20w",
        "outputId": "fc7b4d26-d464-4244-eaba-cc98781e7c23"
      },
      "execution_count": 2,
      "outputs": [
        {
          "output_type": "stream",
          "name": "stdout",
          "text": [
            "premier nombre 20.3\n",
            "second nombre 12.5\n",
            "32.8\n"
          ]
        }
      ]
    },
    {
      "cell_type": "markdown",
      "source": [
        "ecrire une fonction multiple"
      ],
      "metadata": {
        "id": "Gd-x6pTexJM6"
      }
    },
    {
      "cell_type": "code",
      "source": [
        "def multiple(a,b):\n",
        "  return a*b\n",
        "nb1=float(input('premier nombre '))\n",
        "nb2=float(input('second nombre '))\n",
        "print(multiple(nb1,nb2))"
      ],
      "metadata": {
        "colab": {
          "base_uri": "https://localhost:8080/"
        },
        "id": "sRBDuSeIxJe5",
        "outputId": "46e67bc3-c6dd-4506-b82d-eaa409cd6cad"
      },
      "execution_count": 3,
      "outputs": [
        {
          "output_type": "stream",
          "name": "stdout",
          "text": [
            "premier nombre 2.5\n",
            "second nombre 33\n",
            "82.5\n"
          ]
        }
      ]
    },
    {
      "cell_type": "markdown",
      "source": [
        "ecrire une fonction surface"
      ],
      "metadata": {
        "id": "mK6Z6Fvexd6n"
      }
    },
    {
      "cell_type": "code",
      "source": [
        "def surface(a,b):\n",
        "  return a*b\n",
        "nb1=float(input('longueur'))\n",
        "nb2=float(input('largeur '))\n",
        "print('la surface de ',nb1,' et ',nb2,' est ',surface(nb1,nb2))"
      ],
      "metadata": {
        "colab": {
          "base_uri": "https://localhost:8080/"
        },
        "id": "veFjUnAnxeQM",
        "outputId": "f278740d-6f11-409e-994b-43cba98b5286"
      },
      "execution_count": null,
      "outputs": [
        {
          "output_type": "stream",
          "name": "stdout",
          "text": [
            "longueur5\n",
            "largeur 6\n",
            "la surface de  5.0  et  6.0  est  30.0\n"
          ]
        }
      ]
    },
    {
      "cell_type": "markdown",
      "source": [
        "fonction factoriel"
      ],
      "metadata": {
        "id": "Fn1rAlZnx3Gm"
      }
    },
    {
      "cell_type": "code",
      "source": [
        "def factoriel(a):\n",
        "  from math import factorial\n",
        "  return factorial(a)\n",
        "nb=int(input('entrez un nombre : '))\n",
        "print('le factoriel de ',nb,' est ',factoriel(nb))"
      ],
      "metadata": {
        "colab": {
          "base_uri": "https://localhost:8080/"
        },
        "id": "HWCKGifmx3Wd",
        "outputId": "8dd55585-8e15-431a-b821-a043be79bf54"
      },
      "execution_count": null,
      "outputs": [
        {
          "output_type": "stream",
          "name": "stdout",
          "text": [
            "entrez un nombre : 1\n",
            "le factoriel de  1  est  1\n"
          ]
        }
      ]
    },
    {
      "cell_type": "markdown",
      "source": [
        "ecrire une fonction qui renvoi un nombre aleatoire entre 2 nombres"
      ],
      "metadata": {
        "id": "BuZ8AlA4zia1"
      }
    },
    {
      "cell_type": "code",
      "source": [
        "def aleatoire():\n",
        "  from random import randint\n",
        "  min=int(input('minimum '))\n",
        "  max=int(input('maximum '))\n",
        "  while max<min :\n",
        "    min=int(input('erreur,minimum doit etre inferieur au max '))\n",
        "    max=int(input('maximum '))\n",
        "  rdn = randint(min,max)\n",
        "  print(rdn,' est un nombre aléatoire entre ',min,' et ',max)\n",
        "  return rdn\n",
        "aleatoire()"
      ],
      "metadata": {
        "colab": {
          "base_uri": "https://localhost:8080/"
        },
        "id": "VOyjbl7Bzips",
        "outputId": "f6c054e7-b337-4ce8-8b9f-030851e15e37"
      },
      "execution_count": null,
      "outputs": [
        {
          "output_type": "stream",
          "name": "stdout",
          "text": [
            "minimum 4\n",
            "maximum 5\n",
            "4  est un nombre aléatoire entre  4  et  5\n"
          ]
        },
        {
          "output_type": "execute_result",
          "data": {
            "text/plain": [
              "4"
            ]
          },
          "metadata": {},
          "execution_count": 50
        }
      ]
    },
    {
      "cell_type": "markdown",
      "source": [
        "ecrivez un programme pour trouver un maximum entre 3 nombres"
      ],
      "metadata": {
        "id": "NzXhLQJ8aMzX"
      }
    },
    {
      "cell_type": "code",
      "source": [
        "def maximum3 (a,b,c):\n",
        "  if a>b and a>c : return a\n",
        "  elif b>a and b>c : return b\n",
        "  else : return c;\n",
        "a =input('entrez 3 nombres separé par une virgule ')\n",
        "liste= a.split(',')\n",
        "print('le plus grand est ',maximum3(int(liste[0]),int(liste[1]),int(liste[2])))"
      ],
      "metadata": {
        "colab": {
          "base_uri": "https://localhost:8080/"
        },
        "id": "PixBjzLNQBZP",
        "outputId": "5caa9ce8-6bbf-442b-cda7-8025bdb4ea95"
      },
      "execution_count": null,
      "outputs": [
        {
          "output_type": "stream",
          "name": "stdout",
          "text": [
            "entrez 3 nombres separé par une virgule 1,2,3\n",
            "le plus grand est  3\n"
          ]
        }
      ]
    },
    {
      "cell_type": "markdown",
      "source": [
        "ecrivez un programme pour verifier sir un nombre est divisible par 2 et 5 ou non"
      ],
      "metadata": {
        "id": "DP-AeNhnjBzX"
      }
    },
    {
      "cell_type": "code",
      "source": [
        "def div2et5(n):\n",
        "  return n%10==0\n",
        "print(div2et5(30))"
      ],
      "metadata": {
        "colab": {
          "base_uri": "https://localhost:8080/"
        },
        "id": "pERBeKfVjB-m",
        "outputId": "f54e701b-2de0-482d-a4b0-ad5caa47b26d"
      },
      "execution_count": null,
      "outputs": [
        {
          "output_type": "stream",
          "name": "stdout",
          "text": [
            "True\n"
          ]
        }
      ]
    },
    {
      "cell_type": "markdown",
      "source": [
        "ecrivez un programme pour verifier si un nombre est pair ou impair"
      ],
      "metadata": {
        "id": "cJWKiDtujx7F"
      }
    },
    {
      "cell_type": "code",
      "source": [
        "def pairImpair(n):\n",
        "  return n%2==0\n",
        "print(pairImpair(31))"
      ],
      "metadata": {
        "colab": {
          "base_uri": "https://localhost:8080/"
        },
        "id": "ENo6Y3MsjyFj",
        "outputId": "8f558c34-c322-4003-e9f0-43d4b2247474"
      },
      "execution_count": null,
      "outputs": [
        {
          "output_type": "stream",
          "name": "stdout",
          "text": [
            "False\n"
          ]
        }
      ]
    },
    {
      "cell_type": "markdown",
      "source": [
        "ecrivez un programme pour verifier si une lettre est un voyelle ou une consomme"
      ],
      "metadata": {
        "id": "v6EOLaV1kCPa"
      }
    },
    {
      "cell_type": "code",
      "source": [
        "def voyelleOui(n):\n",
        "  return n.lower() in ('aeiouy')\n",
        "print('c\\'est une voyelle') if(voyelleOui(input('entrez une lettre '))) else print('c\\'est une consonne')"
      ],
      "metadata": {
        "colab": {
          "base_uri": "https://localhost:8080/"
        },
        "id": "pAit-eTLkCcK",
        "outputId": "af1ae57a-c557-4ec8-cc67-de07c465e005"
      },
      "execution_count": null,
      "outputs": [
        {
          "output_type": "stream",
          "name": "stdout",
          "text": [
            "entrez une lettre A\n",
            "c'est une voyelle\n"
          ]
        }
      ]
    },
    {
      "cell_type": "markdown",
      "source": [
        "ecrivez un programme pou entrer le numero de la semaine et afficher le jour"
      ],
      "metadata": {
        "id": "2OUXIHn8mCJe"
      }
    },
    {
      "cell_type": "code",
      "source": [
        "def jourSemaine(a):\n",
        "  match a:\n",
        "    case 1: print(\"on est lundi\")\n",
        "    case 2: print(\"on est mardi\")\n",
        "    case 3: print(\"on est mercredi\")\n",
        "    case 4: print(\"on est jeudi\")\n",
        "    case 5: print(\"on est vendredi\")\n",
        "    case 6: print(\"on est samedi\")\n",
        "    case 7: print(\"on est dimanche\")\n",
        "jourSemaine(int(input('numero du jour ')))"
      ],
      "metadata": {
        "colab": {
          "base_uri": "https://localhost:8080/"
        },
        "id": "fNWwAe6lmCXA",
        "outputId": "abf97112-bad0-4b36-b446-1f7bd0f37b1c"
      },
      "execution_count": null,
      "outputs": [
        {
          "output_type": "stream",
          "name": "stdout",
          "text": [
            "numero du jour5\n",
            "on est vendredi\n"
          ]
        }
      ]
    },
    {
      "cell_type": "markdown",
      "source": [
        "écrivez un programme pour trouver toutes les racines dune equation du second de gres (ax2+bx+c)"
      ],
      "metadata": {
        "id": "hMIFl6WGm-QU"
      }
    },
    {
      "cell_type": "code",
      "source": [
        "def racineCarre(a,b,c):\n",
        "  from math import sqrt\n",
        "  delta= (b*b)-(4*a*c)\n",
        "  if delta <0 :return print(delta,' est negatif, pas de solution')\n",
        "  elif delta==0 : return print ('delta = 0 , une seule solution :',-(b/(2*a)))\n",
        "  else : print('delta = ',delta,' il y a 2 solution :',(-b-sqrt(delta))/(2*a),' et ',(-b+sqrt(delta))/(2*a))\n",
        "test =input('entrez a,b puis c separé par une virgule ')\n",
        "liste= test.split(',')\n",
        "racineCarre(int(liste[0]),int(liste[1]),int(liste[2]))"
      ],
      "metadata": {
        "colab": {
          "base_uri": "https://localhost:8080/"
        },
        "id": "ZQp2RUdXm-eK",
        "outputId": "0fc8bd54-23f8-42c6-9c06-603bb25618fb"
      },
      "execution_count": null,
      "outputs": [
        {
          "output_type": "stream",
          "name": "stdout",
          "text": [
            "entrez a,b puis c separé par une virgule 2,6,2\n",
            "delta =  20  il y a 2 solution : -2.618033988749895  et  -0.3819660112501051\n"
          ]
        }
      ]
    },
    {
      "cell_type": "markdown",
      "source": [
        "ecrivez un programme pour saisir le prix de fabrication et le prix de vente d'un produit et verifié si il y a profit ou perte"
      ],
      "metadata": {
        "id": "hkRQjS9ZyVEy"
      }
    },
    {
      "cell_type": "code",
      "source": [
        "def perteProfit(fabrication,vente):\n",
        "   print('il y a perte') if fabrication>vente else print('il y a profit')\n",
        "perteProfit(float(input('prix de fabrication ? ')),float(input('prix de vente ? ')))"
      ],
      "metadata": {
        "colab": {
          "base_uri": "https://localhost:8080/"
        },
        "id": "oso_cntQyVSF",
        "outputId": "35e9a036-b8d9-49bf-fa69-51f035715e90"
      },
      "execution_count": null,
      "outputs": [
        {
          "output_type": "stream",
          "name": "stdout",
          "text": [
            "prix de fabrication ? 50\n",
            "prix de vente ? 30\n",
            "il y a perte\n"
          ]
        }
      ]
    },
    {
      "cell_type": "markdown",
      "source": [
        "le tarif de visite d'un chateau est :\n",
        "gratuit pour les enfants entre 0 et 3 ans\n",
        "4 euros pour les enfants entre 4 et 11 ans\n",
        "9 euros pour les plus de 11 ans"
      ],
      "metadata": {
        "id": "0-LqSQPl09QP"
      }
    },
    {
      "cell_type": "code",
      "source": [
        "def tarif_chateau(age):\n",
        "    if age in range(0,3): return 0\n",
        "    elif age in range(4,11): return 4\n",
        "    else :return 9\n",
        "print('le prix de la visite est de ',tarif_chateau(int(input('entrez votre age : '))))"
      ],
      "metadata": {
        "colab": {
          "base_uri": "https://localhost:8080/"
        },
        "id": "-75uNIOi09ao",
        "outputId": "991e66a5-bb38-48b0-e74e-08a2581077cb"
      },
      "execution_count": null,
      "outputs": [
        {
          "output_type": "stream",
          "name": "stdout",
          "text": [
            "entrez votre age : 1\n",
            "leprix de la visite est de  0\n"
          ]
        }
      ]
    },
    {
      "cell_type": "markdown",
      "source": [
        "*Exercices sur les tableaux"
      ],
      "metadata": {
        "id": "vOzr44MyzZ93"
      }
    },
    {
      "cell_type": "markdown",
      "source": [
        "algo qui permetn d'echanger le premier et le dernier element d'une liste"
      ],
      "metadata": {
        "id": "p0a4zE7Mzjf2"
      }
    },
    {
      "cell_type": "code",
      "source": [
        "def switch_premier_dernier(lst):\n",
        "  der=lst[]\n",
        "  lst[len(lst)-1]=lst[0]\n",
        "  lst[0]=der\n",
        "  return lst\n",
        "switch_premier_dernier([1,2,3,4,5,6,7,9])"
      ],
      "metadata": {
        "colab": {
          "base_uri": "https://localhost:8080/"
        },
        "id": "9OcB-UEMzp7b",
        "outputId": "fd357d65-7c52-403e-9e2c-4deff6b7f675"
      },
      "execution_count": null,
      "outputs": [
        {
          "output_type": "execute_result",
          "data": {
            "text/plain": [
              "[9, 2, 3, 4, 5, 6, 7, 1]"
            ]
          },
          "metadata": {},
          "execution_count": 2
        }
      ]
    },
    {
      "cell_type": "markdown",
      "source": [
        "algo qui initialise une liste et ajoute ds elements demandé par un utilisateur"
      ],
      "metadata": {
        "id": "jQdI9tiz5MaZ"
      }
    },
    {
      "cell_type": "code",
      "source": [
        "def ajout_liste(lst):\n",
        "  reponse='oui'\n",
        "  while reponse!='non':\n",
        "    lst.append(input('saisir la donnée'))\n",
        "    reponse=input(\"saisir encore ? non pour arreter\")\n",
        "  return lst\n",
        "liliste=[]\n",
        "ajout_liste(liliste)\n",
        "print(liliste)"
      ],
      "metadata": {
        "colab": {
          "base_uri": "https://localhost:8080/"
        },
        "id": "hwE_9HpT5W5E",
        "outputId": "114e6bc6-f790-42af-a369-8ee6dba82017"
      },
      "execution_count": null,
      "outputs": [
        {
          "output_type": "stream",
          "name": "stdout",
          "text": [
            "saisir la donnée1\n",
            "saisir encore ? non pour arreteroui\n",
            "saisir la donnée2\n",
            "saisir encore ? non pour arreteroui\n",
            "saisir la donnée3\n",
            "saisir encore ? non pour arreteroui\n",
            "saisir la donnéejaja\n",
            "saisir encore ? non pour arreteroui\n",
            "saisir la donnéejaja\n",
            "saisir encore ? non pour arreternon\n",
            "['1', '2', '3', 'jaja', 'jaja']\n"
          ]
        }
      ]
    },
    {
      "cell_type": "markdown",
      "source": [
        "algo qui permet de supprimer des element"
      ],
      "metadata": {
        "id": "2F_GKyIH6zSl"
      }
    },
    {
      "cell_type": "code",
      "source": [
        "def supprime_liste(lst):\n",
        "  reponse='oui'\n",
        "  while reponse!='non':\n",
        "    print(lst)\n",
        "    saisie=input('supprimer quelle donnée ?')\n",
        "    while saisie not in lst :\n",
        "      saisie=input('valeur incorect, saisir une donneé dans le tableau')\n",
        "    lst.remove(saisie)\n",
        "    reponse=input(\"supprimer encore ? non pour arreter\")\n",
        "  return lst\n",
        "\n",
        "supprime_liste(liliste)\n",
        "print(liliste)"
      ],
      "metadata": {
        "id": "N9fCLVoM6zqk",
        "colab": {
          "base_uri": "https://localhost:8080/"
        },
        "outputId": "9ef4a6fd-97db-491f-f1c1-41cb217a046c"
      },
      "execution_count": null,
      "outputs": [
        {
          "output_type": "stream",
          "name": "stdout",
          "text": [
            "['2', '3', 'jaja']\n",
            "supprimer quelle donnée ?5\n",
            "valeur incorect, saisir une donneé dans le tableau5\n",
            "valeur incorect, saisir une donneé dans le tableau6\n",
            "valeur incorect, saisir une donneé dans le tableau7\n",
            "valeur incorect, saisir une donneé dans le tableaujaja\n",
            "supprimer encore ? non pour arreternon\n",
            "['2', '3']\n"
          ]
        }
      ]
    },
    {
      "cell_type": "markdown",
      "source": [
        "les dictionnaires\n",
        "\n",
        "> var={} => dictionnaire vide\n",
        "\n",
        "> var={'cle':'valeur'}\n",
        "\n",
        "> chaque clé doit être unique, on peut rajouter des paires clé: valeur à la volée\n",
        "\n",
        "> var: {'cle1':valeur1,'clé2':valeur2}\n",
        "\n",
        "\n",
        "\n",
        "\n",
        "\n",
        "\n",
        "\n"
      ],
      "metadata": {
        "id": "kqH6pV7JDtnh"
      }
    },
    {
      "cell_type": "code",
      "source": [
        "#dictionnaire de jour et trouve le jour\n",
        "def jour_semaine(nb):\n",
        "  semaine ={1:'lundi',2:'mardi',3:'mercredi',4:'jeudi',5:'vendredi',6:'samedi',7:'dimanche'}\n",
        "  return semaine[nb]\n",
        "print('le jour de la semaine',jour_semaine(int(input('numero du jour '))))"
      ],
      "metadata": {
        "colab": {
          "base_uri": "https://localhost:8080/"
        },
        "id": "fJ3YRZbTEcQc",
        "outputId": "02db9e5a-251a-47c5-f07b-d7d18f80f1ea"
      },
      "execution_count": null,
      "outputs": [
        {
          "output_type": "stream",
          "name": "stdout",
          "text": [
            "numero du jour 4\n",
            "le jour de la semaine jeudi\n"
          ]
        }
      ]
    },
    {
      "cell_type": "markdown",
      "source": [
        "fonction qui declare un dictionnaire puis saisie tous ses elements à partir de l'utilisateur"
      ],
      "metadata": {
        "id": "5RUxjWl_HWNf"
      }
    },
    {
      "cell_type": "code",
      "source": [
        "def creation_dictionnaire():\n",
        "  dico={}\n",
        "  reponse='oui'\n",
        "  while reponse!='non':\n",
        "    saisie =input('entrez le couple clé : valeur separé par :').split(\":\")\n",
        "    dico[saisie[0]]=saisie[1]\n",
        "    reponse=input(\"saisir encore ? non pour arreter\")\n",
        "  return dico\n",
        "test=creation_dictionnaire()\n",
        "print(test)"
      ],
      "metadata": {
        "colab": {
          "base_uri": "https://localhost:8080/"
        },
        "id": "EUlgwXr8HeIB",
        "outputId": "8f7db846-6aea-4b15-9f8f-fb863e38f0c2"
      },
      "execution_count": null,
      "outputs": [
        {
          "output_type": "stream",
          "name": "stdout",
          "text": [
            "entrez le couple clé : valeur separé par :1:zizi\n",
            "saisir encore ? non pour arreter2:zouzou\n",
            "entrez le couple clé : valeur separé par :2:zouzou\n",
            "saisir encore ? non pour arreternon\n",
            "{'1': 'zizi', '2': 'zouzou'}\n"
          ]
        }
      ]
    },
    {
      "cell_type": "markdown",
      "source": [
        "soit les deux dico suivant : dict1={'a':10,'b':8} et dict2={'d':6,'c':4}. Ecrire une fonction qui fusionne les 2 dictionnaires"
      ],
      "metadata": {
        "id": "ffh-xOSBIqwj"
      }
    },
    {
      "cell_type": "code",
      "source": [
        "def fusion_2_dico(dict1,dict2):\n",
        "  return (dict1|dict2)\n",
        "dict1={'a':10,'b':8}\n",
        "dict2={'b':6,'c':4}\n",
        "print(fusion_2_dico(dict1,dict2))\n",
        "print(dict1,dict2)\n"
      ],
      "metadata": {
        "colab": {
          "base_uri": "https://localhost:8080/"
        },
        "id": "74_nQFZSJA1X",
        "outputId": "52232fdf-4e7b-48d3-9324-470e9d6c47c7"
      },
      "execution_count": null,
      "outputs": [
        {
          "output_type": "stream",
          "name": "stdout",
          "text": [
            "{'a': 10, 'b': 6, 'c': 4}\n",
            "{'a': 10, 'b': 8} {'b': 6, 'c': 4}\n"
          ]
        }
      ]
    },
    {
      "cell_type": "markdown",
      "source": [
        "fonction qui retourne la somme de tous les elements passé en parametre"
      ],
      "metadata": {
        "id": "xuoA0wK_Kvvc"
      }
    },
    {
      "cell_type": "code",
      "source": [
        "def somme_dico(dico):\n",
        "  return sum(var for var in dico.values())\n",
        "dico={x:x+66 for x in range(1,11)}\n",
        "print(dico)\n",
        "print (somme_dico(dico))"
      ],
      "metadata": {
        "colab": {
          "base_uri": "https://localhost:8080/"
        },
        "id": "eA6kQD0QK2MM",
        "outputId": "6003e1ba-406b-4e18-f070-91a18898c83e"
      },
      "execution_count": null,
      "outputs": [
        {
          "output_type": "stream",
          "name": "stdout",
          "text": [
            "{1: 67, 2: 68, 3: 69, 4: 70, 5: 71, 6: 72, 7: 73, 8: 74, 9: 75, 10: 76}\n",
            "715\n"
          ]
        }
      ]
    },
    {
      "cell_type": "markdown",
      "source": [
        "fonction affiche compteur qui prend un para n et ecreit la suite de 0 à n"
      ],
      "metadata": {
        "id": "5Wi2hUVJrMES"
      }
    },
    {
      "cell_type": "code",
      "source": [
        "def affiche_compteur(n):\n",
        "  i=0\n",
        "  while i <=n :\n",
        "    print(i)\n",
        "    i+=1\n",
        "affiche_compteur(10)"
      ],
      "metadata": {
        "colab": {
          "base_uri": "https://localhost:8080/"
        },
        "id": "_-gy5ImSleW-",
        "outputId": "ecaedf6e-b98a-452d-c957-9ead9e40d69a"
      },
      "execution_count": null,
      "outputs": [
        {
          "output_type": "stream",
          "name": "stdout",
          "text": [
            "0\n",
            "1\n",
            "2\n",
            "3\n",
            "4\n",
            "5\n",
            "6\n",
            "7\n",
            "8\n",
            "9\n",
            "10\n"
          ]
        }
      ]
    },
    {
      "cell_type": "markdown",
      "source": [
        "fonction affiche_nombre_paires qui affiche les pairs jusque n"
      ],
      "metadata": {
        "id": "-WKgCtF1sUEc"
      }
    },
    {
      "cell_type": "code",
      "source": [
        "def affiche_nombre_paires(n):\n",
        "  i=0\n",
        "  while i <=n :\n",
        "    if i%2==0 :print(i)\n",
        "    i+=1\n",
        "affiche_nombre_paires(10)"
      ],
      "metadata": {
        "colab": {
          "base_uri": "https://localhost:8080/"
        },
        "id": "hmbYmWyNsUZS",
        "outputId": "c3de65dc-ab0f-4d82-c2b1-2cd462eb8c28"
      },
      "execution_count": null,
      "outputs": [
        {
          "output_type": "stream",
          "name": "stdout",
          "text": [
            "0\n",
            "2\n",
            "4\n",
            "6\n",
            "8\n",
            "10\n"
          ]
        }
      ]
    },
    {
      "cell_type": "markdown",
      "source": [
        "fonction affiche_nombre_impaires qui affiche les pairs jusque n"
      ],
      "metadata": {
        "id": "4CnFCUGWsvIR"
      }
    },
    {
      "cell_type": "code",
      "source": [
        "def affiche_nombre_impaires(n):\n",
        "  i=0\n",
        "  while i <=n :\n",
        "    if i%2!=0 :print(i)\n",
        "    i+=1\n",
        "affiche_nombre_impaires(10)"
      ],
      "metadata": {
        "colab": {
          "base_uri": "https://localhost:8080/"
        },
        "id": "6Y0Rp_i_svTk",
        "outputId": "b035bc4c-6bb5-48a4-8d0a-21a0947b5730"
      },
      "execution_count": null,
      "outputs": [
        {
          "output_type": "stream",
          "name": "stdout",
          "text": [
            "1\n",
            "3\n",
            "5\n",
            "7\n",
            "9\n"
          ]
        }
      ]
    },
    {
      "cell_type": "markdown",
      "source": [
        "fonction sens_inverse qui prend n et ecrit les entier de n à 1"
      ],
      "metadata": {
        "id": "2Q2HOb_ss7rJ"
      }
    },
    {
      "cell_type": "code",
      "source": [
        "def affiche_compteur(n):\n",
        "  i=n\n",
        "  while i>=1 :\n",
        "    print(i)\n",
        "    i-=1\n",
        "affiche_compteur(10)"
      ],
      "metadata": {
        "colab": {
          "base_uri": "https://localhost:8080/"
        },
        "id": "i2ZOtPMQs711",
        "outputId": "be339e07-43fd-4087-91e3-ab6e48374d92"
      },
      "execution_count": null,
      "outputs": [
        {
          "output_type": "stream",
          "name": "stdout",
          "text": [
            "10\n",
            "9\n",
            "8\n",
            "7\n",
            "6\n",
            "5\n",
            "4\n",
            "3\n",
            "2\n",
            "1\n"
          ]
        }
      ]
    },
    {
      "cell_type": "markdown",
      "source": [
        "fonction somme qui prend n et qui ecrit la somme entre 1 et n"
      ],
      "metadata": {
        "id": "KApFf1qJtjgm"
      }
    },
    {
      "cell_type": "code",
      "source": [
        "def somme(n):\n",
        "  i=0\n",
        "  temp=0\n",
        "  while i <=n :\n",
        "    temp+=i\n",
        "    i+=1\n",
        "  return temp\n",
        "somme(10)"
      ],
      "metadata": {
        "colab": {
          "base_uri": "https://localhost:8080/"
        },
        "id": "6HCF-GIbtjsG",
        "outputId": "8d94fd58-0b1b-4d72-8422-7af93448c2e2"
      },
      "execution_count": null,
      "outputs": [
        {
          "output_type": "execute_result",
          "data": {
            "text/plain": [
              "55"
            ]
          },
          "metadata": {},
          "execution_count": 62
        }
      ]
    },
    {
      "cell_type": "markdown",
      "source": [
        "fonction table de multiplication"
      ],
      "metadata": {
        "id": "LmuI5HkTHZcn"
      }
    },
    {
      "cell_type": "code",
      "source": [
        "def mutiplication(n):\n",
        "  i=0\n",
        "  while i <=20 :\n",
        "    print(n,' x ',i,' = ',i*n)\n",
        "    i+=1\n",
        "  return True\n",
        "mutiplication(int(input('la table de combien ?')))"
      ],
      "metadata": {
        "colab": {
          "base_uri": "https://localhost:8080/"
        },
        "id": "hErIeF65HZOP",
        "outputId": "df0a6e7c-2602-4fb8-bec8-6486a723481b"
      },
      "execution_count": null,
      "outputs": [
        {
          "output_type": "stream",
          "name": "stdout",
          "text": [
            "la table de combien ?10\n",
            "10  x  0  =  0 10  x  1  =  10 10  x  2  =  20 10  x  3  =  30 10  x  4  =  40 10  x  5  =  50 10  x  6  =  60 10  x  7  =  70 10  x  8  =  80 10  x  9  =  90 10  x  10  =  100 10  x  11  =  110 10  x  12  =  120 10  x  13  =  130 10  x  14  =  140 10  x  15  =  150 10  x  16  =  160 10  x  17  =  170 10  x  18  =  180 10  x  19  =  190 10  x  20  =  200 "
          ]
        },
        {
          "output_type": "execute_result",
          "data": {
            "text/plain": [
              "True"
            ]
          },
          "metadata": {},
          "execution_count": 81
        }
      ]
    },
    {
      "cell_type": "markdown",
      "source": [
        "fonction factorielle"
      ],
      "metadata": {
        "id": "KohczOs4IEVu"
      }
    },
    {
      "cell_type": "code",
      "source": [
        "def factorielle():\n",
        "  n=int(input('le factoriel de combien ? '))\n",
        "  i=1\n",
        "  temp=1\n",
        "  while i <=n :\n",
        "    temp*=i\n",
        "    i+=1\n",
        "  return temp\n",
        "  print('le factoriel de ',x,' est ',temp)\n",
        "factorielle()"
      ],
      "metadata": {
        "colab": {
          "base_uri": "https://localhost:8080/"
        },
        "id": "BhvD9j1wIEiX",
        "outputId": "1a6cd0d7-4cb5-45a7-f2f3-b3a14f21c6b5"
      },
      "execution_count": null,
      "outputs": [
        {
          "name": "stdout",
          "output_type": "stream",
          "text": [
            "le factoriel de combien ?666\n"
          ]
        },
        {
          "output_type": "execute_result",
          "data": {
            "text/plain": [
              "1010632056840781493390822708129876451757582398324145411340420807357413802103697022989202806801491012040989802203557527039339704057130729302834542423840165856428740661530297972410682828699397176884342513509493787480774903493389255262878341761883261899426484944657161693131380311117619573051526423320389641805410816067607893067483259816815364609828668662748110385603657973284604842078094141556427708745345100598829488472505949071967727270911965060885209294340665506480226426083357901503097781140832497013738079112777615719116203317542199999489227144752667085796752482688850461263732284539176142365823973696764537603278769322286708855475069835681643710846140569769330065775414413083501043659572299454446517242824002140555140464296291001901438414675730552964914569269734038500764140551143642836128613304734147348086095123859660926788460671181469216252213374650499557831741950594827147225699896414088694251261045196672567495532228826719381606116974003112642111561332573503212960729711781993903877416394381718464765527575014252129040283236963922624344456975024058167368431809068544577258472983979437818072648213608650098749369761056961203791265363665664696802245199962040041544438210327210476982203348458596093079296569561267409473914124132102055811493736199668788534872321705360511305248710796441479213354542583576076596250213454667968837996023273163069094700429467106663925419581193136339860545658673623955231932399404809404108767232000000000000000000000000000000000000000000000000000000000000000000000000000000000000000000000000000000000000000000000000000000000000000000000000000000000000000000000"
            ]
          },
          "metadata": {},
          "execution_count": 78
        }
      ]
    },
    {
      "cell_type": "markdown",
      "source": [
        "affiche la suite de fibo"
      ],
      "metadata": {
        "id": "tWcMAd7XGzbV"
      }
    },
    {
      "cell_type": "code",
      "source": [
        "def fibo(max):\n",
        "  x = 0\n",
        "  y = 1\n",
        "  print (x,end=', ')\n",
        "  print (y,end=', ')\n",
        "  i=0\n",
        "  while i<= max-2 :\n",
        "      n=x+y\n",
        "      x=y\n",
        "      y=n\n",
        "      i+=1\n",
        "      print(n,end=', ')\n",
        "fibo(int(input('entrez le max pour la suite de fibo')))"
      ],
      "metadata": {
        "colab": {
          "base_uri": "https://localhost:8080/"
        },
        "id": "6P64pN3WGiRo",
        "outputId": "dfb7ebbc-c0e9-41f9-a029-8d179263de7c"
      },
      "execution_count": null,
      "outputs": [
        {
          "output_type": "stream",
          "name": "stdout",
          "text": [
            "entrez le max pour la suite de fibo1\n",
            "0, 1, "
          ]
        }
      ]
    },
    {
      "cell_type": "markdown",
      "source": [
        "fonction starsquare qui prend une entier sizesquare et qui affiche un carre d'étoile"
      ],
      "metadata": {
        "id": "muB5mKXlnsAG"
      }
    },
    {
      "cell_type": "code",
      "source": [
        "def starsquare(sizesquare):\n",
        "  for i in range(sizesquare) :\n",
        "    for y in range(sizesquare):\n",
        "      print('*',end=' ')\n",
        "    print()\n",
        "starsquare(int(input('taille du carrée ? ')))"
      ],
      "metadata": {
        "id": "qQjKeKd_Gy-Y",
        "colab": {
          "base_uri": "https://localhost:8080/"
        },
        "outputId": "83482c44-9f4f-44c9-919c-1f11c1140122"
      },
      "execution_count": null,
      "outputs": [
        {
          "output_type": "stream",
          "name": "stdout",
          "text": [
            "taille du carrée ? 2\n",
            "* * \n",
            "* * \n"
          ]
        }
      ]
    },
    {
      "cell_type": "markdown",
      "source": [
        "fonction starrect qui prend une entier height et widh et qui affiche un carre d'étoile"
      ],
      "metadata": {
        "id": "zi9B1i_Rxxmd"
      }
    },
    {
      "cell_type": "code",
      "source": [
        "def starrect(height,widh):\n",
        "  for i in range(height) :\n",
        "      print('* '*widh)\n",
        "starrect(int(input('quelle est la hauteur ? ')),int(input('quelle est la longueur? ')))"
      ],
      "metadata": {
        "colab": {
          "base_uri": "https://localhost:8080/"
        },
        "id": "P1NNgY3CxxvW",
        "outputId": "cda0b3eb-8710-4eee-9282-b3beef8d969a"
      },
      "execution_count": null,
      "outputs": [
        {
          "output_type": "stream",
          "name": "stdout",
          "text": [
            "quelle est la hauteur ? 10\n",
            "quelle est la longueur? 5\n",
            "* * * * * \n",
            "* * * * * \n",
            "* * * * * \n",
            "* * * * * \n",
            "* * * * * \n",
            "* * * * * \n",
            "* * * * * \n",
            "* * * * * \n",
            "* * * * * \n",
            "* * * * * \n"
          ]
        }
      ]
    },
    {
      "cell_type": "markdown",
      "source": [
        "fonction carrevide qui prend n et affiche un carré non rempli"
      ],
      "metadata": {
        "id": "B4I-W8DM4FXl"
      }
    },
    {
      "cell_type": "code",
      "source": [
        "def carrevide(n):\n",
        "  for i in range(n) :\n",
        "    if i==0 or i==n-1 : print('* '*n)\n",
        "    else :\n",
        "      print('*',' '*((n-2)+(n-1)-2),'*')\n",
        "carrevide(int(input('taille du carrée ? superieur à 3 ')))"
      ],
      "metadata": {
        "colab": {
          "base_uri": "https://localhost:8080/"
        },
        "id": "sPN2Rz8X4FkX",
        "outputId": "0f3db865-7531-4a80-a519-5e8c456cdd2c"
      },
      "execution_count": null,
      "outputs": [
        {
          "output_type": "stream",
          "name": "stdout",
          "text": [
            "taille du carrée ? superieur à 3 10\n",
            "* * * * * * * * * * \n",
            "*                 *\n",
            "*                 *\n",
            "*                 *\n",
            "*                 *\n",
            "*                 *\n",
            "*                 *\n",
            "*                 *\n",
            "*                 *\n",
            "* * * * * * * * * * \n"
          ]
        }
      ]
    },
    {
      "cell_type": "markdown",
      "source": [
        "fonction diagonale qui prend n et affiche un carré non rempli avec une diagonale\n",
        "\n",
        "à finir !"
      ],
      "metadata": {
        "id": "eG25TzwEAu_7"
      }
    },
    {
      "cell_type": "code",
      "source": [
        "def diagonale(n):\n",
        "  for x in range (1,n+1) :\n",
        "    for y in range(1,n):\n",
        "      if (x==1 or x==n) or (y==1 or y==n) or x==y or (x+y==n+1): print('*', end=\" \")\n",
        "      else : print(' ',end=\" \")\n",
        "    print('*')\n",
        "print(diagonale(int(input('taille du carrée ? superieur à 3 '))))"
      ],
      "metadata": {
        "colab": {
          "base_uri": "https://localhost:8080/"
        },
        "id": "YpdmQgFAAvLq",
        "outputId": "e66acd23-ee44-4f54-97f3-288e67aa6acf"
      },
      "execution_count": null,
      "outputs": [
        {
          "output_type": "stream",
          "name": "stdout",
          "text": [
            "taille du carrée ? superieur à 3 15\n",
            "* * * * * * * * * * * * * * *\n",
            "* *                       * *\n",
            "*   *                   *   *\n",
            "*     *               *     *\n",
            "*       *           *       *\n",
            "*         *       *         *\n",
            "*           *   *           *\n",
            "*             *             *\n",
            "*           *   *           *\n",
            "*         *       *         *\n",
            "*       *           *       *\n",
            "*     *               *     *\n",
            "*   *                   *   *\n",
            "* *                       * *\n",
            "* * * * * * * * * * * * * * *\n",
            "None\n"
          ]
        }
      ]
    },
    {
      "cell_type": "markdown",
      "source": [
        "fonction affiche lettre par lettre qui prend une string et qui affiche tous les caractères"
      ],
      "metadata": {
        "id": "Et2r0rUAF_4-"
      }
    },
    {
      "cell_type": "code",
      "source": [
        "def affiche_lettre_par_lettre(chaine):\n",
        "  i=0\n",
        "  while i<len(chaine):\n",
        "    print(chaine[i])\n",
        "    i+=1\n",
        "  return True\n",
        "affiche_lettre_par_lettre(input('entrez moi une phrase '))"
      ],
      "metadata": {
        "colab": {
          "base_uri": "https://localhost:8080/"
        },
        "id": "_KSSD86nGAIC",
        "outputId": "ec5f0e6f-d81c-4d40-8a1f-c804d6bc2f23"
      },
      "execution_count": null,
      "outputs": [
        {
          "output_type": "stream",
          "name": "stdout",
          "text": [
            "entrez moi une phrasediablo 4 c'est bien\n",
            "d\n",
            "i\n",
            "a\n",
            "b\n",
            "l\n",
            "o\n",
            " \n",
            "4\n",
            " \n",
            "c\n",
            "'\n",
            "e\n",
            "s\n",
            "t\n",
            " \n",
            "b\n",
            "i\n",
            "e\n",
            "n\n"
          ]
        },
        {
          "output_type": "execute_result",
          "data": {
            "text/plain": [
              "True"
            ]
          },
          "metadata": {},
          "execution_count": 73
        }
      ]
    },
    {
      "cell_type": "markdown",
      "source": [
        "fonction affiche nombre occurence qui prend une chaine et un char et indque le nombre d'occurence\n",
        "\n"
      ],
      "metadata": {
        "id": "8UQjw3btHC9B"
      }
    },
    {
      "cell_type": "code",
      "source": [
        "def affiche_nombre_occurence(chaine,a):\n",
        "  count=0\n",
        "  for i in chaine :\n",
        "    if i==a:count+=1\n",
        "  return count\n",
        "x=input('entrez moi une phrase et un char, separé par # ').split('#')\n",
        "affiche_nombre_occurence(x[0],x[1])"
      ],
      "metadata": {
        "colab": {
          "base_uri": "https://localhost:8080/"
        },
        "id": "mTT-FXImHDGr",
        "outputId": "f854e6e5-dbdf-4f54-ccac-574376b4b727"
      },
      "execution_count": null,
      "outputs": [
        {
          "name": "stdout",
          "output_type": "stream",
          "text": [
            "entrez moi une phrase et un char, separé par # ziziziziziziziziziziziziz#z\n"
          ]
        },
        {
          "output_type": "execute_result",
          "data": {
            "text/plain": [
              "13"
            ]
          },
          "metadata": {},
          "execution_count": 78
        }
      ]
    },
    {
      "cell_type": "markdown",
      "source": [
        "fonction affiche index char qui prend une chaine et un char et donne l'indice dans la phrase"
      ],
      "metadata": {
        "id": "p7u3sdhkJL_m"
      }
    },
    {
      "cell_type": "code",
      "source": [
        "def affiche_index_caractere(chaine,a):\n",
        "  i=0\n",
        "  while i<= len(chaine) :\n",
        "    if i==len(chaine): return False\n",
        "    elif chaine[i]==a:\n",
        "      return i\n",
        "      break\n",
        "    i+=1\n",
        "\n",
        "x=input('entrez moi une phrase et un char, separé par # ').split('#')\n",
        "resultat = affiche_index_caractere(x[0],x[1])\n",
        "print(x[1],'n\\'est pas dans la phrase :',x[0]) if not resultat else print(x[1],' est à l\\'indice ',resultat,' dans la chaine ',x[0])"
      ],
      "metadata": {
        "colab": {
          "base_uri": "https://localhost:8080/"
        },
        "id": "vfda8iYGJMLn",
        "outputId": "f62710d3-58ea-4c25-ed82-fa67fb8be694"
      },
      "execution_count": null,
      "outputs": [
        {
          "output_type": "stream",
          "name": "stdout",
          "text": [
            "entrez moi une phrase et un char, separé par # vive le vent#i\n",
            "i  est à l'indice  1  dans la chaine  vive le vent\n"
          ]
        }
      ]
    },
    {
      "cell_type": "markdown",
      "source": [
        "fonction affiche sous chaine qui prend une chaine en para et une autre sous chaine et qui affiche le nombre d'occurance"
      ],
      "metadata": {
        "id": "IVmganYOL3rl"
      }
    },
    {
      "cell_type": "code",
      "source": [
        "def nb_souchaine(chaine1,chaine2):\n",
        "  i=0\n",
        "  count=0\n",
        "  while i<= len(chaine1):\n",
        "    if chaine2==chaine1[i:len(chaine2)] :count+=1\n",
        "    i+=1\n",
        "  return count\n",
        "\n",
        "x=input('entrez moi une phrase et une sous chaine, separé par # ').split('#')\n",
        "resultat = nb_souchaine(x[0],x[1])\n",
        "print(x[1],'n\\'est pas dans la phrase :',x[0]) if resultat!=0 else print(x[1],' est ',resultat,' fois dans dans la chaine ',x[0])"
      ],
      "metadata": {
        "colab": {
          "base_uri": "https://localhost:8080/"
        },
        "id": "cmQq1D0NL32Y",
        "outputId": "79b47613-ccac-4912-8920-97f3e1a511aa"
      },
      "execution_count": null,
      "outputs": [
        {
          "output_type": "stream",
          "name": "stdout",
          "text": [
            "entrez moi une phrase et une sous chaine, separé par # ii#i\n",
            "i n'est pas dans la phrase : ii\n"
          ]
        }
      ]
    },
    {
      "cell_type": "markdown",
      "source": [
        "fonction pour afficher le nombre de voyelle dans une chaine avec leurs indices"
      ],
      "metadata": {
        "id": "pW2m8LzwM78o"
      }
    },
    {
      "cell_type": "code",
      "source": [
        "def nombre_voyelle(chaine):\n",
        "  liste_voyelle={}\n",
        "  i=0\n",
        "  while i < len(chaine) :\n",
        "    if chaine[i].lower() in ('aeiouy'):\n",
        "      liste_voyelle[i]=chaine[i]\n",
        "    i+=1\n",
        "  return liste_voyelle\n",
        "resultat =nombre_voyelle(input('entrez moi une phrase '))\n",
        "print('pas de voyelles ') if len(resultat)==0 else print('il y a ',len(resultat),' voyelles dans la phrase et ils sont aux indices :',resultat)\n",
        "\n"
      ],
      "metadata": {
        "colab": {
          "base_uri": "https://localhost:8080/"
        },
        "id": "-vYN4dK_M8HT",
        "outputId": "238f1f70-a786-4cd4-b666-7b6f07b4f20d"
      },
      "execution_count": null,
      "outputs": [
        {
          "output_type": "stream",
          "name": "stdout",
          "text": [
            "entrez moi une phrase hello world\n",
            "il y a  3  voyelles dans la phrase et ils sont aux indices : {1: 'e', 4: 'o', 7: 'o'}\n"
          ]
        }
      ]
    },
    {
      "cell_type": "markdown",
      "source": [
        "avec while une fonction negatif element qui prend 2 para : un tableau et un element, puis qui afficher tous les nombres en dessous"
      ],
      "metadata": {
        "id": "gaUfPlWxvL0P"
      }
    },
    {
      "cell_type": "code",
      "source": [
        "def negatif_element(tab,n):\n",
        "  nega=[]\n",
        "  for i in tab:\n",
        "    if i<n : nega.append(i)\n",
        "  return nega\n",
        "x=list(map(int, input('entrez la liste de nombre , separé par ,  ').split(',')))\n",
        "n=int(input('entrez la valeur à tester :'))\n",
        "resultat=negatif_element(x,n)\n",
        "print(f\"il n\\'y a pas de valeur plus petites que {n} dans la liste {x}\") if len(resultat)==0 else print(f\"il y a {len(resultat)} valeurs plus petites que {n} dans la liste {x} : {resultat}\")\n"
      ],
      "metadata": {
        "colab": {
          "base_uri": "https://localhost:8080/"
        },
        "id": "aZvbKFkOvL9X",
        "outputId": "20c4d5c5-b056-4d42-a991-beb99a1e9a99"
      },
      "execution_count": null,
      "outputs": [
        {
          "output_type": "stream",
          "name": "stdout",
          "text": [
            "entrez la liste de nombre , separé par ,  10,-5,0,8,4\n",
            "entrez la valeur à tester :5\n",
            "il y a 3 valeurs plus petites que 5 dans la liste [10, -5, 0, 8, 4] : [-5, 0, 4]\n"
          ]
        }
      ]
    },
    {
      "cell_type": "markdown",
      "source": [
        "fonction calcule element qui calcule la somme et la moyenne des valeurs"
      ],
      "metadata": {
        "id": "U_gDe_Aky_Hh"
      }
    },
    {
      "cell_type": "code",
      "source": [
        "def calcule_element(tab):\n",
        "  return sum(x for x in tab), sum(tab) / len(tab)\n",
        "x=list(map(int, input('entrez la liste de nombre , separé par ,  ').split(',')))\n",
        "resultat=calcule_element(x)\n",
        "print(f\"pour la liste {x} la somme est de {resultat[0]} et la moyenne est {resultat[1]}\")"
      ],
      "metadata": {
        "colab": {
          "base_uri": "https://localhost:8080/"
        },
        "id": "xJKc05b2y_Th",
        "outputId": "0c9e5a4c-5d80-4e95-b302-321f49833599"
      },
      "execution_count": null,
      "outputs": [
        {
          "output_type": "stream",
          "name": "stdout",
          "text": [
            "entrez la liste de nombre , separé par ,  1,2,3,4,5,6\n",
            "pour la liste [1, 2, 3, 4, 5, 6] la somme est de 21 et la moyenne est 3.5\n"
          ]
        }
      ]
    },
    {
      "cell_type": "markdown",
      "source": [
        "afficher le nombre de paire et d'impaire d'une liste"
      ],
      "metadata": {
        "id": "B7gy2c6i2mgR"
      }
    },
    {
      "cell_type": "code",
      "source": [
        "def pair_impair(lst):\n",
        "  pair=0\n",
        "  impair=0\n",
        "  for i in lst:\n",
        "    if i%2==0 : pair+=1\n",
        "    else: impair+=1\n",
        "  return pair,impair\n",
        "x=list(map(int, input('entrez la liste de nombre , separé par ,  ').split(',')))\n",
        "print(f'dans la liste {x} il y a {pair_impair(x)[0]} nombres paires et {pair_impair(x)[1]} nombre impaires')"
      ],
      "metadata": {
        "colab": {
          "base_uri": "https://localhost:8080/"
        },
        "id": "fW3tkMpg2mvI",
        "outputId": "aeac4607-6dd4-42c5-883c-e3e925006ea7"
      },
      "execution_count": null,
      "outputs": [
        {
          "output_type": "stream",
          "name": "stdout",
          "text": [
            "entrez la liste de nombre , separé par ,  -1\n",
            "dans la liste [-1] il y a 0 nombres paires et 1 nombre impaires\n"
          ]
        }
      ]
    },
    {
      "cell_type": "markdown",
      "source": [
        "programme qui à partir de 2 tableaux à 1 dimensions fait un tableau à 2 dimensions contenant les produits de chaque termes de chaque tableau"
      ],
      "metadata": {
        "id": "BZvQgRMh-3s2"
      }
    },
    {
      "cell_type": "code",
      "source": [
        "def multiplication_tableau(tab1,tab2):\n",
        "  resultat=[]\n",
        "  for i in range(len(tab1)) :\n",
        "    resultat2=[]\n",
        "    for y in range(len(tab2)) :\n",
        "      resultat2.append(tab1[i]*tab2[y])\n",
        "    resultat.append(resultat2)\n",
        "  return resultat\n",
        "tab1=[2,3,4,5]\n",
        "tab2=[4,5,6,7]\n",
        "print(multiplication_tableau(tab1,tab2))\n"
      ],
      "metadata": {
        "colab": {
          "base_uri": "https://localhost:8080/"
        },
        "id": "4PaN6mvY-32x",
        "outputId": "410589a8-3986-435d-b491-fa73dd6492d5"
      },
      "execution_count": null,
      "outputs": [
        {
          "output_type": "stream",
          "name": "stdout",
          "text": [
            "[[8, 10, 12, 14], [12, 15, 18, 21], [16, 20, 24, 28], [20, 25, 30, 35]]\n"
          ]
        }
      ]
    },
    {
      "cell_type": "markdown",
      "source": [
        "soit deux dico : dict1={'a':10,'b':8} et dict2={'d':6,'c':4} ecrire une fonction qui fusioner les 2 dictionnaires"
      ],
      "metadata": {
        "id": "VFORHBS4Nvgw"
      }
    },
    {
      "cell_type": "code",
      "source": [
        "def fusion_dico(dict1,dict2):\n",
        "  return dict1|dict2\n",
        "\n",
        "dict1={'a':10,'b':8}\n",
        "dict2={'d':6,'c':4}\n",
        "print(fusion_dico(dict1,dict2))"
      ],
      "metadata": {
        "colab": {
          "base_uri": "https://localhost:8080/"
        },
        "id": "NRuGabmANvwh",
        "outputId": "ea34c89e-2583-457c-e42d-a3805332c219"
      },
      "execution_count": null,
      "outputs": [
        {
          "output_type": "stream",
          "name": "stdout",
          "text": [
            "{'a': 10, 'b': 8, 'd': 6, 'c': 4}\n"
          ]
        }
      ]
    },
    {
      "cell_type": "markdown",
      "source": [
        "retourne la somme des valeurs dun dico"
      ],
      "metadata": {
        "id": "NE50GdwlPPkE"
      }
    },
    {
      "cell_type": "code",
      "source": [
        "def somme_dico(dict):\n",
        "  return sum(dict[x] for x in dict)\n",
        "dico={'a':100,'b':200,'c':300}\n",
        "print(somme_dico(dico))"
      ],
      "metadata": {
        "colab": {
          "base_uri": "https://localhost:8080/"
        },
        "id": "KOG_i9LMPPtc",
        "outputId": "67c64215-05b7-4522-8e7e-24dcf5f77169"
      },
      "execution_count": null,
      "outputs": [
        {
          "output_type": "stream",
          "name": "stdout",
          "text": [
            "600\n"
          ]
        }
      ]
    },
    {
      "cell_type": "markdown",
      "source": [
        "fonction qui declare un dico puis saisie tous ses elements à partir de l'utilisateur"
      ],
      "metadata": {
        "id": "O2bpbwnfSUJf"
      }
    },
    {
      "cell_type": "code",
      "source": [
        "def saisie_dico():\n",
        "  dico={}\n",
        "  while input('voulez-vous continuer ? n pour stop ')!='n':\n",
        "    x=input('entrez la clé puis la valeur après :').split(':')\n",
        "    dico[x[0]]=x[1]\n",
        "  return dico\n",
        "resultat = saisie_dico()\n",
        "print(resultat)"
      ],
      "metadata": {
        "colab": {
          "base_uri": "https://localhost:8080/"
        },
        "id": "6fCdHLSpSUTY",
        "outputId": "0c869014-a737-4f63-a25c-7f95e7d75574"
      },
      "execution_count": null,
      "outputs": [
        {
          "output_type": "stream",
          "name": "stdout",
          "text": [
            "voulez-vous continuer ? n pour stopo\n",
            "entrez la clé puis la valeur après :1:a\n",
            "voulez-vous continuer ? n pour stopu\n",
            "entrez la clé puis la valeur après :2:7\n",
            "voulez-vous continuer ? n pour stopb\n",
            "entrez la clé puis la valeur après :3:4\n",
            "voulez-vous continuer ? n pour stopn\n",
            "{'1': 'a', '2': '7', '3': '4'}\n"
          ]
        }
      ]
    },
    {
      "cell_type": "markdown",
      "source": [
        "fonction qui renvoie un dico qui contient les frequences d'elements present dans la liste"
      ],
      "metadata": {
        "id": "7rXHv1UCTvZB"
      }
    },
    {
      "cell_type": "code",
      "source": [
        "def occurence_liste(lst):\n",
        "  tri=lst.sort()\n",
        "  dico={}\n",
        "  for i in lst :\n",
        "    dico[i]=dico[i]+1\n",
        "  return dico\n",
        "\n",
        "x=list(map(int, input('entrez la liste de nombre , separé par ,  ').split(',')))\n",
        "print(occurence_liste(x))"
      ],
      "metadata": {
        "colab": {
          "base_uri": "https://localhost:8080/",
          "height": 358
        },
        "id": "SyuCXwO-TvkB",
        "outputId": "69d81a94-9c28-46ce-f71d-b93009d956f7"
      },
      "execution_count": null,
      "outputs": [
        {
          "name": "stdout",
          "output_type": "stream",
          "text": [
            "entrez la liste de nombre , separé par ,  1,1,1\n"
          ]
        },
        {
          "output_type": "error",
          "ename": "KeyError",
          "evalue": "ignored",
          "traceback": [
            "\u001b[0;31m---------------------------------------------------------------------------\u001b[0m",
            "\u001b[0;31mKeyError\u001b[0m                                  Traceback (most recent call last)",
            "\u001b[0;32m<ipython-input-144-fe697b2f77ec>\u001b[0m in \u001b[0;36m<cell line: 9>\u001b[0;34m()\u001b[0m\n\u001b[1;32m      7\u001b[0m \u001b[0;34m\u001b[0m\u001b[0m\n\u001b[1;32m      8\u001b[0m \u001b[0mx\u001b[0m\u001b[0;34m=\u001b[0m\u001b[0mlist\u001b[0m\u001b[0;34m(\u001b[0m\u001b[0mmap\u001b[0m\u001b[0;34m(\u001b[0m\u001b[0mint\u001b[0m\u001b[0;34m,\u001b[0m \u001b[0minput\u001b[0m\u001b[0;34m(\u001b[0m\u001b[0;34m'entrez la liste de nombre , separé par ,  '\u001b[0m\u001b[0;34m)\u001b[0m\u001b[0;34m.\u001b[0m\u001b[0msplit\u001b[0m\u001b[0;34m(\u001b[0m\u001b[0;34m','\u001b[0m\u001b[0;34m)\u001b[0m\u001b[0;34m)\u001b[0m\u001b[0;34m)\u001b[0m\u001b[0;34m\u001b[0m\u001b[0;34m\u001b[0m\u001b[0m\n\u001b[0;32m----> 9\u001b[0;31m \u001b[0mprint\u001b[0m\u001b[0;34m(\u001b[0m\u001b[0moccurence_liste\u001b[0m\u001b[0;34m(\u001b[0m\u001b[0mx\u001b[0m\u001b[0;34m)\u001b[0m\u001b[0;34m)\u001b[0m\u001b[0;34m\u001b[0m\u001b[0;34m\u001b[0m\u001b[0m\n\u001b[0m",
            "\u001b[0;32m<ipython-input-144-fe697b2f77ec>\u001b[0m in \u001b[0;36moccurence_liste\u001b[0;34m(lst)\u001b[0m\n\u001b[1;32m      3\u001b[0m   \u001b[0mdico\u001b[0m\u001b[0;34m=\u001b[0m\u001b[0;34m{\u001b[0m\u001b[0;34m}\u001b[0m\u001b[0;34m\u001b[0m\u001b[0;34m\u001b[0m\u001b[0m\n\u001b[1;32m      4\u001b[0m   \u001b[0;32mfor\u001b[0m \u001b[0mi\u001b[0m \u001b[0;32min\u001b[0m \u001b[0mlst\u001b[0m \u001b[0;34m:\u001b[0m\u001b[0;34m\u001b[0m\u001b[0;34m\u001b[0m\u001b[0m\n\u001b[0;32m----> 5\u001b[0;31m     \u001b[0mdico\u001b[0m\u001b[0;34m[\u001b[0m\u001b[0mi\u001b[0m\u001b[0;34m]\u001b[0m\u001b[0;34m=\u001b[0m\u001b[0mdico\u001b[0m\u001b[0;34m[\u001b[0m\u001b[0mi\u001b[0m\u001b[0;34m]\u001b[0m\u001b[0;34m+\u001b[0m\u001b[0;36m1\u001b[0m\u001b[0;34m\u001b[0m\u001b[0;34m\u001b[0m\u001b[0m\n\u001b[0m\u001b[1;32m      6\u001b[0m   \u001b[0;32mreturn\u001b[0m \u001b[0mdico\u001b[0m\u001b[0;34m\u001b[0m\u001b[0;34m\u001b[0m\u001b[0m\n\u001b[1;32m      7\u001b[0m \u001b[0;34m\u001b[0m\u001b[0m\n",
            "\u001b[0;31mKeyError\u001b[0m: 1"
          ]
        }
      ]
    }
  ]
}