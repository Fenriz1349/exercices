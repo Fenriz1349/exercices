{
  "cells": [
    {
      "cell_type": "markdown",
      "metadata": {
        "id": "view-in-github",
        "colab_type": "text"
      },
      "source": [
        "<a href=\"https://colab.research.google.com/github/Fenriz1349/exercices/blob/main/Python_et_mySQL_exos_communes.ipynb\" target=\"_parent\"><img src=\"https://colab.research.google.com/assets/colab-badge.svg\" alt=\"Open In Colab\"/></a>"
      ]
    },
    {
      "cell_type": "markdown",
      "metadata": {
        "id": "f4WaWreNB5p3"
      },
      "source": [
        "fonction pour extraire un fichier csv dans une liste de dictionnaire, donc la première ligne est l'entete. Puis une fonction pour convertir les 3 dernierers colonnes en int"
      ]
    },
    {
      "cell_type": "code",
      "execution_count": null,
      "metadata": {
        "colab": {
          "base_uri": "https://localhost:8080/"
        },
        "id": "eZmC9UufDpVn",
        "outputId": "63625ccc-4c42-420d-f120-3367f4871477"
      },
      "outputs": [
        {
          "output_type": "stream",
          "name": "stdout",
          "text": [
            "34990\n"
          ]
        }
      ],
      "source": [
        "\n",
        "def csv_file(filename):\n",
        "  with open(filename,'r') as f:\n",
        "    text=f.readlines()\n",
        "  liste_communes=[]\n",
        "  enTete=text[0].strip().split(';')\n",
        "  for i in range(1,len(text)):\n",
        "    villeTemp=text[i].strip().split(';')\n",
        "    ville={}\n",
        "    for j in range(len((villeTemp))):\n",
        "      ville[enTete[j]]=villeTemp[j]\n",
        "    liste_communes.append(ville)\n",
        "  return liste_communes\n",
        "\n",
        "def csv_int(liste):\n",
        "  liste2=liste.copy()\n",
        "  for i in range(len(liste2)):\n",
        "    liste2[i]=liste[i].copy()\n",
        "    liste2[i]['PMUN']=int(liste2[i]['PMUN'])\n",
        "    liste2[i]['PCAP']=int(liste2[i]['PCAP'])\n",
        "    liste2[i]['PTOT']=int(liste2[i]['PTOT'])\n",
        "  return liste2\n",
        "\n",
        "liste_communes=csv_int(csv_file(\"donnees_communes.csv\"))\n",
        "print(len(liste_communes))\n",
        "\n",
        "\n"
      ]
    },
    {
      "cell_type": "markdown",
      "metadata": {
        "id": "XxPRW1rvl0kj"
      },
      "source": [
        "Exercice 1 : Ecrire une fonction qui renvoie le nombre total d’habitant"
      ]
    },
    {
      "cell_type": "code",
      "execution_count": null,
      "metadata": {
        "colab": {
          "base_uri": "https://localhost:8080/"
        },
        "id": "PCHsXI3Al8wX",
        "outputId": "db7216b8-f528-4e2c-909e-f1b99507b59f"
      },
      "outputs": [
        {
          "output_type": "stream",
          "name": "stdout",
          "text": [
            "68229198\n"
          ]
        }
      ],
      "source": [
        "def popTotale(liste):\n",
        "  return sum(liste[i]['PTOT'] for i in range(len(liste)))\n",
        "print(popTotale(liste_communes))\n"
      ]
    },
    {
      "cell_type": "markdown",
      "metadata": {
        "id": "72eSlvXRoYeW"
      },
      "source": [
        "Exercice 2 : Ecrire une fonction qui prend en paramètre un numéro de département et qui renvoie le nombre d’habitant de ce département. (un entier)"
      ]
    },
    {
      "cell_type": "code",
      "execution_count": null,
      "metadata": {
        "colab": {
          "base_uri": "https://localhost:8080/"
        },
        "id": "HZd7Cs_toc46",
        "outputId": "0c3e4b19-48c9-432e-e2f3-520665d2907f"
      },
      "outputs": [
        {
          "output_type": "stream",
          "name": "stdout",
          "text": [
            "2638696\n"
          ]
        }
      ],
      "source": [
        "def PopDep(liste,dep):\n",
        "  return sum(liste[i]['PTOT'] for i in range(len(liste)) if liste[i]['CODDEP']==str(dep))\n",
        "print(PopDep(liste_communes,59))"
      ]
    },
    {
      "cell_type": "markdown",
      "metadata": {
        "id": "0nIlUbZPqBOT"
      },
      "source": [
        "Exercice 3 : Ecrire une fonction qui prend en paramètre un numéro de département et qui renvoie le nom des 10 communes les moins peuplées."
      ]
    },
    {
      "cell_type": "code",
      "execution_count": null,
      "metadata": {
        "colab": {
          "base_uri": "https://localhost:8080/"
        },
        "id": "Tnei9HrmqB2Z",
        "outputId": "b9da33fc-b86c-4776-b30b-d40e12bd57ec"
      },
      "outputs": [
        {
          "output_type": "stream",
          "name": "stdout",
          "text": [
            "[('Dehéries', 39), ('Choisies', 51), ('Moustier-en-Fagne', 60), ('Eccles', 81), ('Floursies', 130), ('Quiévelon', 138), ('Willies', 138), ('Solrinnes', 142), ('Écuélin', 144), ('Capelle', 150)]\n"
          ]
        }
      ],
      "source": [
        "def flop10Dep(liste,dep):\n",
        "  tempdep={}\n",
        "  for i in liste:\n",
        "    if i['CODDEP']==str(dep): tempdep[i['COM']]=int(i['PTOT'])\n",
        "  temp=sorted(tempdep.items(),key=lambda i:i[1])\n",
        "  return temp[:10]\n",
        "print(flop10Dep(liste_communes,59))"
      ]
    },
    {
      "cell_type": "markdown",
      "metadata": {
        "id": "F40D2ARG28LD"
      },
      "source": [
        "Exercice 4 : Ecrire une fonction qui prend en paramètre un tableau de numéro de département et qui renvoie le nombre total d’habitant de l’ensemble de ces départements."
      ]
    },
    {
      "cell_type": "code",
      "source": [
        "def popListeDep(liste,listeDep):\n",
        "  return sum(liste[i]['PTOT'] for i in range(len(liste)) if liste[i]['CODDEP'] in str(listeDep))\n",
        "print(popListeDep(liste_communes,[59]))"
      ],
      "metadata": {
        "colab": {
          "base_uri": "https://localhost:8080/"
        },
        "id": "4sDDLgaJNaF9",
        "outputId": "6699bd80-8d85-4b8e-c826-fbbaeac1f8e3"
      },
      "execution_count": null,
      "outputs": [
        {
          "output_type": "stream",
          "name": "stdout",
          "text": [
            "2638696\n"
          ]
        }
      ]
    },
    {
      "cell_type": "markdown",
      "source": [
        "Exercice 5 : Ecrire une fonction qui prend en paramètre un tableau de numéro de département et qui renvoie le numéro du département le plus peuplé."
      ],
      "metadata": {
        "id": "sNEeCPtZQZJ-"
      }
    },
    {
      "cell_type": "code",
      "source": [
        "def depLePlusPeuple(liste,listeDep):\n",
        "  listeDepPop={}\n",
        "  for i in listeDep: listeDepPop[i]=PopDep(liste,i)\n",
        "  return sorted(listeDepPop.items(),key=lambda i:i[1],reverse=True)[0]\n",
        "depLePlusPeuple(liste_communes,['75','62','59'])"
      ],
      "metadata": {
        "colab": {
          "base_uri": "https://localhost:8080/"
        },
        "id": "idyFNWcnQc67",
        "outputId": "1f85232e-fc95-44b6-94cd-18972435b0f7"
      },
      "execution_count": null,
      "outputs": [
        {
          "output_type": "execute_result",
          "data": {
            "text/plain": [
              "('59', 2638696)"
            ]
          },
          "metadata": {},
          "execution_count": 6
        }
      ]
    },
    {
      "cell_type": "markdown",
      "source": [
        "Exercice 6 : Ecrire une fonction qui prend en paramètre un nombre entier et qui renvoie un tableau contenant l’ensemble de tous les numéros de départements dont le nombre d’habitant est inférieur à l’entier passé en paramètre."
      ],
      "metadata": {
        "id": "rCpX5gsDaDk0"
      }
    },
    {
      "cell_type": "code",
      "source": [
        "def DepEnDessousDe(liste,num):\n",
        "  '''version liste + fonctionlisteDep=[]\n",
        "  resultat=[]\n",
        "  for i in liste:\n",
        "    if i['CODDEP'] not in listeDep : listeDep.append(i['CODDEP'])\n",
        "  for i in listeDep:\n",
        "    if PopDep(liste,i) <num :resultat.append(i)\n",
        "  return resultat'''\n",
        "  '''version dictionnaire'''\n",
        "  dicoPop={}\n",
        "  for i in liste:\n",
        "    if i['CODDEP'] in dicoPop :dicoPop[i['CODDEP']]+=i['PTOT']\n",
        "    else:dicoPop[i['CODDEP']]=i['PTOT']\n",
        "  dico={}\n",
        "  for i in dicoPop:\n",
        "    if dicoPop[i]<num : dico[i]=dicoPop[i]\n",
        "  return dico\n",
        "DepEnDessousDe(liste_communes,200000)\n",
        "\n"
      ],
      "metadata": {
        "colab": {
          "base_uri": "https://localhost:8080/"
        },
        "id": "4uyWm5RLaEXI",
        "outputId": "81b4e7f7-52ff-4f0c-f908-165be16b9155"
      },
      "execution_count": null,
      "outputs": [
        {
          "output_type": "execute_result",
          "data": {
            "text/plain": [
              "{'04': 168867,\n",
              " '05': 145791,\n",
              " '09': 157339,\n",
              " '15': 149664,\n",
              " '23': 120146,\n",
              " '2A': 160958,\n",
              " '2B': 184680,\n",
              " '32': 198101,\n",
              " '46': 179729,\n",
              " '48': 80304,\n",
              " '52': 177457,\n",
              " '55': 189535,\n",
              " '90': 144447}"
            ]
          },
          "metadata": {},
          "execution_count": 7
        }
      ]
    },
    {
      "cell_type": "markdown",
      "source": [
        "Exercice 7 : Ecrire une fonction qui renvoie le nom de la région la plus peuplée ainsi que la moins peuplée"
      ],
      "metadata": {
        "id": "JXbRS4F-HYsF"
      }
    },
    {
      "cell_type": "code",
      "source": [
        "def PopRegion(liste,region):\n",
        "  return sum(liste[i]['PTOT'] for i in range(len(liste)) if liste[i]['REG']==region)\n",
        "\n",
        "def RegionPlusEtMoinsPeuple(liste):\n",
        "  listeRegion=[]\n",
        "  resultat=[]\n",
        "  for i in liste:\n",
        "    if i['REG'] not in listeRegion : listeRegion.append(i['REG'])\n",
        "  for i in listeRegion:\n",
        "    resultat.append([i,PopRegion(liste,i)])\n",
        "  resultat.sort(key=lambda i:i[1],reverse=True)\n",
        "  return (resultat[0][0],resultat[len(resultat)-1][0])\n",
        "print(RegionPlusEtMoinsPeuple(liste_communes))"
      ],
      "metadata": {
        "colab": {
          "base_uri": "https://localhost:8080/"
        },
        "id": "dIb3-hm8HcHT",
        "outputId": "a4804336-39df-4d64-9576-7c9a6ae6e683"
      },
      "execution_count": null,
      "outputs": [
        {
          "output_type": "stream",
          "name": "stdout",
          "text": [
            "('Île-de-France', 'Guyane')\n"
          ]
        }
      ]
    },
    {
      "cell_type": "markdown",
      "source": [
        "Exercice 8 : Ecrire une fonction qui duplique le fichier de données mais qui supprime les lignes de l’ensemble de toutes les communes qui ont moins de 10000 habitants. Le nouveau fichier ainsi créé contiendra uniquement les communes qui ont plus de 10000 habitants.\n"
      ],
      "metadata": {
        "id": "hC1OCWvKJm1i"
      }
    },
    {
      "cell_type": "code",
      "source": [
        "def supprimerLesMoinsDe10000(liste):\n",
        "  fichier=open('communes_plus_de_10k.csv','w')\n",
        "  header=''\n",
        "  for i in liste[0]:\n",
        "    header+=(i+';')\n",
        "  fichier.write(header[:-1]+'\\n')\n",
        "  for i in liste:\n",
        "    if i['PTOT']>=10000 :\n",
        "      commune=''\n",
        "      for j in i: commune+=(str(i[j])+';')\n",
        "      fichier.write(commune[:-1]+'\\n')\n",
        "  fichier.close()\n",
        "supprimerLesMoinsDe10000(liste_communes)\n"
      ],
      "metadata": {
        "id": "IcQdyiQoJybp"
      },
      "execution_count": null,
      "outputs": []
    },
    {
      "cell_type": "code",
      "source": [
        "test=csv_file('communes_plus_de_10k.csv')\n",
        "print(len(test))"
      ],
      "metadata": {
        "colab": {
          "base_uri": "https://localhost:8080/"
        },
        "id": "RKe0_w2QBmuJ",
        "outputId": "ee4081bd-323d-4f12-876c-e8b838cfbefe"
      },
      "execution_count": null,
      "outputs": [
        {
          "output_type": "stream",
          "name": "stdout",
          "text": [
            "1072\n"
          ]
        }
      ]
    },
    {
      "cell_type": "markdown",
      "source": [
        "Exercice 9 : Ecrire une fonction qui prend en paramètre une liste de département et qui renvoie un dictionnaire dont les clés sont les numéros du département et les valeurs associées sont le nombre d’habitant du département."
      ],
      "metadata": {
        "id": "id46vjZW50vN"
      }
    },
    {
      "cell_type": "code",
      "source": [
        "def dicoDep(dep):\n",
        "  dico={}\n",
        "  for i in dep:\n",
        "    dico[str(i)]=PopDep(liste_communes,str(i))\n",
        "  return dico\n",
        "print (dicoDep([59,75,62,'2B']))"
      ],
      "metadata": {
        "colab": {
          "base_uri": "https://localhost:8080/"
        },
        "id": "SDWQr9YP507u",
        "outputId": "5c8cfa91-bf95-4427-d175-8eff6da2a2c0"
      },
      "execution_count": null,
      "outputs": [
        {
          "output_type": "stream",
          "name": "stdout",
          "text": [
            "{'59': 2638696, '75': 2182174, '62': 1487300, '2B': 184680}\n"
          ]
        }
      ]
    },
    {
      "cell_type": "markdown",
      "source": [
        "**version Pandas"
      ],
      "metadata": {
        "id": "n_eC2jP2OvDm"
      }
    },
    {
      "cell_type": "code",
      "source": [
        "import pandas as pd\n",
        "data = pd.read_csv(r\"donnees_communes.csv\",delimiter=';',quotechar='\"')\n",
        "print(data)"
      ],
      "metadata": {
        "colab": {
          "base_uri": "https://localhost:8080/"
        },
        "id": "yIfSP3_1O2_8",
        "outputId": "203ab27e-143b-4aeb-8f86-6996e70df722"
      },
      "execution_count": null,
      "outputs": [
        {
          "output_type": "stream",
          "name": "stdout",
          "text": [
            "       CODREG                   REG CODDEP  CODARR CODCAN  CODCOM  \\\n",
            "0          84  Auvergne-Rhône-Alpes     01       2     08       1   \n",
            "1          84  Auvergne-Rhône-Alpes     01       1     01       2   \n",
            "2          84  Auvergne-Rhône-Alpes     01       1     01       4   \n",
            "3          84  Auvergne-Rhône-Alpes     01       2     22       5   \n",
            "4          84  Auvergne-Rhône-Alpes     01       1     04       6   \n",
            "...       ...                   ...    ...     ...    ...     ...   \n",
            "34985       4            La Réunion    974       1     04     420   \n",
            "34986       4            La Réunion    974       3     06     421   \n",
            "34987       4            La Réunion    974       2     99     422   \n",
            "34988       4            La Réunion    974       4     14     423   \n",
            "34989       4            La Réunion    974       2     16     424   \n",
            "\n",
            "                           COM   PMUN  PCAP   PTOT  \n",
            "0      L'Abergement-Clémenciat    779    19    798  \n",
            "1        L'Abergement-de-Varey    256     1    257  \n",
            "2            Ambérieu-en-Bugey  14134   380  14514  \n",
            "3          Ambérieux-en-Dombes   1751    25   1776  \n",
            "4                      Ambléon    112     6    118  \n",
            "...                        ...    ...   ...    ...  \n",
            "34985           Sainte-Suzanne  24065   227  24292  \n",
            "34986                  Salazie   7136    73   7209  \n",
            "34987                Le Tampon  79824  1009  80833  \n",
            "34988        Les Trois-Bassins   7015    91   7106  \n",
            "34989                   Cilaos   5538    85   5623  \n",
            "\n",
            "[34990 rows x 10 columns]\n"
          ]
        }
      ]
    },
    {
      "cell_type": "markdown",
      "source": [
        "Exercice 1 : Ecrire une fonction qui renvoie le nombre total d’habitant"
      ],
      "metadata": {
        "id": "5mN6n2XmOzaT"
      }
    },
    {
      "cell_type": "code",
      "source": [
        "print(data['PTOT'].sum())"
      ],
      "metadata": {
        "colab": {
          "base_uri": "https://localhost:8080/"
        },
        "id": "mBSNdreRPSXj",
        "outputId": "51494f74-f64d-4a58-9472-050334a3a66d"
      },
      "execution_count": null,
      "outputs": [
        {
          "output_type": "stream",
          "name": "stdout",
          "text": [
            "68229198\n"
          ]
        }
      ]
    },
    {
      "cell_type": "markdown",
      "source": [
        "Exercice 2 : Ecrire une fonction qui prend en paramètre un numéro de département et qui renvoie le nombre d’habitant de ce département. (un entier)"
      ],
      "metadata": {
        "id": "nKD0AIa3PaeQ"
      }
    },
    {
      "cell_type": "code",
      "source": [
        "def nb_habitant_dep(dep):\n",
        "  return data.loc[data['CODDEP']==str(dep),'PTOT'].sum()\n",
        "print (nb_habitant_dep(59))"
      ],
      "metadata": {
        "colab": {
          "base_uri": "https://localhost:8080/"
        },
        "id": "GfdRRZiePduA",
        "outputId": "28fdf2f7-3ab0-409f-e359-c5143373c9c2"
      },
      "execution_count": null,
      "outputs": [
        {
          "output_type": "stream",
          "name": "stdout",
          "text": [
            "2638696\n"
          ]
        }
      ]
    },
    {
      "cell_type": "markdown",
      "source": [
        "Exercice 3 : Ecrire une fonction qui prend en paramètre un numéro de département et qui renvoie le nom des 10 communes les moins peuplées."
      ],
      "metadata": {
        "id": "_OOqA7kxQ-I9"
      }
    },
    {
      "cell_type": "code",
      "source": [
        "def moins_du_dep_10(dep):\n",
        "  return data.loc[data['CODDEP']==str(dep)].sort_values(\"PTOT\").head(10)[['COM','PTOT']]\n",
        "print(moins_du_dep_10(59))\n"
      ],
      "metadata": {
        "colab": {
          "base_uri": "https://localhost:8080/"
        },
        "id": "Y_cm9ye7RDAG",
        "outputId": "4bb63494-ec90-4664-f28c-1334ebf59ca0"
      },
      "execution_count": null,
      "outputs": [
        {
          "output_type": "stream",
          "name": "stdout",
          "text": [
            "                     COM  PTOT\n",
            "21985           Dehéries    39\n",
            "21962           Choisies    51\n",
            "22223  Moustier-en-Fagne    60\n",
            "22000             Eccles    81\n",
            "22053          Floursies   130\n",
            "22285          Quiévelon   138\n",
            "22458            Willies   138\n",
            "22372          Solrinnes   142\n",
            "22002            Écuélin   144\n",
            "21942            Capelle   150\n"
          ]
        }
      ]
    },
    {
      "cell_type": "markdown",
      "source": [
        "Exercice 4 : Ecrire une fonction qui prend en paramètre un tableau de numéro de département et qui renvoie le nombre total d’habitant de l’ensemble de ces départements."
      ],
      "metadata": {
        "id": "wqfa3pqTSs3H"
      }
    },
    {
      "cell_type": "code",
      "source": [
        "def total_pop_liste(dep):\n",
        "  return data.loc[data['CODDEP'].isin(dep),'PTOT'].sum()\n",
        "print (total_pop_liste(['59','62','75']))\n"
      ],
      "metadata": {
        "colab": {
          "base_uri": "https://localhost:8080/"
        },
        "id": "QuraWW6zTbO8",
        "outputId": "6b31fbf0-d8bc-40e3-f64e-0593a6a85fda"
      },
      "execution_count": null,
      "outputs": [
        {
          "output_type": "stream",
          "name": "stdout",
          "text": [
            "6308170\n"
          ]
        }
      ]
    },
    {
      "cell_type": "markdown",
      "source": [
        "Exercice 5 : Ecrire une fonction qui prend en paramètre un tableau de numéro de département et qui renvoie le numéro du département le plus peuplé."
      ],
      "metadata": {
        "id": "7M3BlqTnUsbz"
      }
    },
    {
      "cell_type": "code",
      "source": [
        "def dep_plus_peuple(dep):\n",
        "  return data[data['CODDEP'].isin(dep)].groupby(['CODDEP'])['PTOT'].sum().sort_values().tail(1).index.values[0],data[data['CODDEP'].isin(dep)].groupby(['CODDEP'])['PTOT'].sum().sort_values().tail(1).values[0]\n",
        "print(dep_plus_peuple(['23','75','62','59']))"
      ],
      "metadata": {
        "colab": {
          "base_uri": "https://localhost:8080/"
        },
        "id": "fu9cjMRlUuvu",
        "outputId": "0b8a8ff7-5f6f-40ee-8b7a-bce43ce35534"
      },
      "execution_count": null,
      "outputs": [
        {
          "output_type": "stream",
          "name": "stdout",
          "text": [
            "('59', 2638696)\n"
          ]
        }
      ]
    },
    {
      "cell_type": "markdown",
      "source": [
        "Exercice 6 : Ecrire une fonction qui prend en paramètre un nombre entier et qui renvoie un tableau contenant l’ensemble de tous les numéros de départements dont le nombre d’habitant est inférieur à l’entier passé en paramètre."
      ],
      "metadata": {
        "id": "Dk1wTObXUu6Y"
      }
    },
    {
      "cell_type": "code",
      "source": [
        "def moins_de_n(n):\n",
        "  temp=data.groupby(['CODDEP'])['PTOT'].sum()\n",
        "  resultat=pd.DataFrame(temp)\n",
        "  return resultat.loc[resultat['PTOT']<n]\n",
        "print(moins_de_n(200000))"
      ],
      "metadata": {
        "colab": {
          "base_uri": "https://localhost:8080/"
        },
        "id": "R9tn_rEkUxIx",
        "outputId": "fc278040-5a97-4027-ba88-dbc4d4f624e8"
      },
      "execution_count": null,
      "outputs": [
        {
          "output_type": "stream",
          "name": "stdout",
          "text": [
            "          PTOT\n",
            "CODDEP        \n",
            "04      168867\n",
            "05      145791\n",
            "09      157339\n",
            "15      149664\n",
            "23      120146\n",
            "2A      160958\n",
            "2B      184680\n",
            "32      198101\n",
            "46      179729\n",
            "48       80304\n",
            "52      177457\n",
            "55      189535\n",
            "90      144447\n"
          ]
        }
      ]
    },
    {
      "cell_type": "markdown",
      "source": [
        "Exercice 7 : Ecrire une fonction qui renvoie le nom de la région la plus peuplée ainsi que la moins peuplée"
      ],
      "metadata": {
        "id": "J3DZuB2tUxUd"
      }
    },
    {
      "cell_type": "code",
      "source": [
        "def region_top_flop():\n",
        "  dico={}\n",
        "  min_pop=data.groupby(['REG'])['PTOT'].sum().sort_values().head(1)\n",
        "  max_pop=data.groupby(['REG'])['PTOT'].sum().sort_values().tail(1)\n",
        "  dico[min_pop.index.values[0]]=min_pop.values[0]\n",
        "  dico[max_pop.index.values[0]]=max_pop.values[0]\n",
        "  return dico\n",
        "print(region_top_flop())"
      ],
      "metadata": {
        "colab": {
          "base_uri": "https://localhost:8080/"
        },
        "id": "xkib-24hUy0a",
        "outputId": "dfc7b560-ad82-4df2-e559-cb22efb56b37"
      },
      "execution_count": null,
      "outputs": [
        {
          "output_type": "stream",
          "name": "stdout",
          "text": [
            "{'Guyane': 284085, 'Île-de-France': 12377425}\n"
          ]
        }
      ]
    },
    {
      "cell_type": "markdown",
      "source": [
        "Exercice 8 : Ecrire une fonction qui duplique le fichier de données mais qui supprime les lignes de l’ensemble de toutes les communes qui ont moins de 10000 habitants. Le nouveau fichier ainsi créé contiendra uniquement les communes qui ont plus de 10000 habitants."
      ],
      "metadata": {
        "id": "3yw8CCMFUy9i"
      }
    },
    {
      "cell_type": "code",
      "source": [
        "def sup_moins_10k (MAX):\n",
        "  data.loc[data['PTOT']>MAX].to_csv('communes_plus_de_10k_pandas.csv',sep=';',index=False)\n",
        "sup_moins_10k(10000)"
      ],
      "metadata": {
        "id": "4xoLAyJ3U1Aa"
      },
      "execution_count": null,
      "outputs": []
    },
    {
      "cell_type": "markdown",
      "source": [
        "Exercice 9 : Ecrire une fonction qui prend en paramètre une liste de département et qui renvoie un dictionnaire dont les clés sont les numéros du département et les valeurs associées sont le nombre d’habitant du département."
      ],
      "metadata": {
        "id": "_KdJV6MBU1Mo"
      }
    },
    {
      "cell_type": "code",
      "source": [
        "def dico_communes(dep):\n",
        "  dico={}\n",
        "  for i in dep:\n",
        "    dico[str(i)]=data.loc[data['CODDEP']==str(i),'PTOT'].sum()\n",
        "  return dico\n",
        "print(dico_communes([59,62,'2B']))"
      ],
      "metadata": {
        "id": "Zc5w08D-U3QC",
        "colab": {
          "base_uri": "https://localhost:8080/"
        },
        "outputId": "bdec0537-dab7-4d7e-e8fc-05d1ed157cae"
      },
      "execution_count": null,
      "outputs": [
        {
          "output_type": "stream",
          "name": "stdout",
          "text": [
            "{'59': 2638696, '62': 1487300, '2B': 184680}\n"
          ]
        }
      ]
    }
  ],
  "metadata": {
    "colab": {
      "provenance": [],
      "authorship_tag": "ABX9TyNFoa6DuDvdA/rVGUEIqoUK",
      "include_colab_link": true
    },
    "kernelspec": {
      "display_name": "Python 3",
      "name": "python3"
    },
    "language_info": {
      "name": "python"
    }
  },
  "nbformat": 4,
  "nbformat_minor": 0
}