{
  "nbformat": 4,
  "nbformat_minor": 0,
  "metadata": {
    "colab": {
      "provenance": [],
      "toc_visible": true,
      "authorship_tag": "ABX9TyMyvthKGHklDzjnIkzektbd",
      "include_colab_link": true
    },
    "kernelspec": {
      "name": "python3",
      "display_name": "Python 3"
    },
    "language_info": {
      "name": "python"
    }
  },
  "cells": [
    {
      "cell_type": "markdown",
      "metadata": {
        "id": "view-in-github",
        "colab_type": "text"
      },
      "source": [
        "<a href=\"https://colab.research.google.com/github/Fenriz1349/exercices/blob/main/Cours_Python_Amine_Exo_ADN.ipynb\" target=\"_parent\"><img src=\"https://colab.research.google.com/assets/colab-badge.svg\" alt=\"Open In Colab\"/></a>"
      ]
    },
    {
      "cell_type": "markdown",
      "source": [
        "stack (pile) : fifo, first in first out\n",
        "\n",
        "*   push : ajouter une valeur au dessus de la pile\n",
        "*   pull/pop : renvoie la dernière valeur et la supprime\n",
        "*   top () : revoie la dernière valeur sans la supprimer\n",
        "*   is empty = vrai si vide\n",
        "\n",
        "\n",
        "\n",
        "\n"
      ],
      "metadata": {
        "id": "B-7oCRXQSmDc"
      }
    },
    {
      "cell_type": "markdown",
      "source": [
        "# Cryptographie\n",
        "\n",
        "petit"
      ],
      "metadata": {
        "id": "sk24mwCqxxbz"
      }
    },
    {
      "cell_type": "markdown",
      "source": [
        "si on fait l1=l, les 2 listes pointent vers la même liste. modifier l1 modifie l\n",
        "pareil pour les dictionnaires d1=d, si on change d on change d1.\n",
        "si une clé n'existe pas, d.get('a')= None => moyen de savoir si une clé existe"
      ],
      "metadata": {
        "id": "s30B5sFP5Uel"
      }
    },
    {
      "cell_type": "markdown",
      "source": [
        "start=time.time()\n",
        "stop=time.time()\n",
        "stop-start = temps d'execution"
      ],
      "metadata": {
        "id": "Lvphi0RobVpz"
      }
    },
    {
      "cell_type": "markdown",
      "source": [
        "fonction qui retire une valeur d'une stack"
      ],
      "metadata": {
        "id": "gMBq7C__WPf_"
      }
    },
    {
      "cell_type": "code",
      "execution_count": null,
      "metadata": {
        "id": "w0PHlSP-Sesl"
      },
      "outputs": [],
      "source": [
        "def retire(s,n):\n",
        "  retour=[]\n",
        "  while not s.isempty():\n",
        "    s.pop() if s.top() ==n else retour.push(s.pop())\n",
        "  while not retour.isEmpty():\n",
        "    s.push(s.pop())\n",
        "  return s"
      ]
    },
    {
      "cell_type": "markdown",
      "source": [
        "Nous allons nous intéresser à l’ADN (acide désoxyribonucléique), et plus particulièrement aux nucléotides. De manière simplifiée, nous considérerons qu’un brin d’ADN est constitué d’une base azotée qui peuvent être de 4 types : A, C, G et T respectivement Adénine, Cytosine, Guanine et Thymine.\n",
        "\n",
        "Une séquence ADN sera donc constituée d’une suite de base azotée, la longueur de cette \"chaîne\" est variable.\n",
        "Exemple : AATACGCACAGT, AAA, AT, TAGATA, etc.\n",
        "\n",
        "Pour les exercices suivants, les brins d’ADN seront représentés par une chaîne de caractère (str).\n",
        "\n",
        "     A) Écrire une fonction ​nbBaseAzo ​qui prend en paramètre un brin d’ADN et qui affiche  le nombre de A, de C, de G et de T."
      ],
      "metadata": {
        "id": "1q3F4cbXrFkc"
      }
    },
    {
      "cell_type": "code",
      "source": [
        "def nbBaseAzo (chaine):\n",
        "  DNA={'A':0,'T':0,'C':0,'G':0}\n",
        "  for i in chaine:\n",
        "    match i:\n",
        "      case 'A':DNA['A']+=1\n",
        "      case 'T':DNA['T']+=1\n",
        "      case 'C':DNA['C']+=1\n",
        "      case 'G':DNA['G']+=1\n",
        "  return (DNA['A'],DNA['T'],DNA['C'],DNA['G'])\n",
        "print(nbBaseAzo('ATTGCGT'))\n",
        "#meme fonction mais avec count\n",
        "def nbBaseAzo2(chaine):\n",
        "  return (chaine.count('A'),chaine.count('T'),chaine.count('C'),chaine.count('G'))\n",
        "print(nbBaseAzo2('ATTGCGT'))\n"
      ],
      "metadata": {
        "colab": {
          "base_uri": "https://localhost:8080/"
        },
        "id": "CbIGSLfKrFvA",
        "outputId": "122fca91-4ef9-4d72-962f-2531a423f1a1"
      },
      "execution_count": null,
      "outputs": [
        {
          "output_type": "stream",
          "name": "stdout",
          "text": [
            "(1, 3, 1, 2)\n",
            "(1, 3, 1, 2)\n"
          ]
        }
      ]
    },
    {
      "cell_type": "markdown",
      "source": [
        " B) Écrire une fonction sameCharacter qui prend en paramètre 2 séquences d’ADN de même taille et qui renvoie le nombre de bases azotées différentes entre les 2 brins.\n",
        "Exemple : sameCharacter(“ATATG”, “ATAAG”) retourne 1\n",
        "Exemple : sameCharacter(“ATATC”, “ATAAG”) retourne 2\n",
        "Exemple : sameCharacter(“ATATG”, “ATATG”) retourne 0\n"
      ],
      "metadata": {
        "id": "pvdUiB29rW4r"
      }
    },
    {
      "cell_type": "code",
      "source": [
        "def sameCharacter (chaine1,chaine2):\n",
        "  count=0\n",
        "  for i in range(len(chaine1)):\n",
        "    if chaine1[i]!=chaine2[i]: count+=1\n",
        "  return count\n",
        "print(sameCharacter('ATTA','ACGA'))\n",
        "def sameCharacter2 (chaine1,chaine2):\n",
        "  return count(i for i in range(len(chaine1)) if chaine1[i]!=chaine2[i])"
      ],
      "metadata": {
        "colab": {
          "base_uri": "https://localhost:8080/"
        },
        "id": "wCp094YCrXEJ",
        "outputId": "86f49d96-3b63-46b2-a1a8-fd69a40506ca"
      },
      "execution_count": null,
      "outputs": [
        {
          "output_type": "stream",
          "name": "stdout",
          "text": [
            "2\n"
          ]
        }
      ]
    },
    {
      "cell_type": "markdown",
      "source": [
        "C) Écrire une fonction newCharacter qui prend en paramètre 2 séquences ADN de même taille et qui renvoie une séquence de même taille en piochant alternativement dans chacune des séquences passées en paramètre.\n",
        "Exemple : newCharacter(“ATAT”, “GCGC”) retourne “ACAC”\n",
        "Exemple : newCharacter(“AAAA”, “ACGT”) retourne “ACAT”\n",
        "Exemple : newCharacter(“A”, “T”) retourne “A”\n"
      ],
      "metadata": {
        "id": "tLzb2xbfr9Gm"
      }
    },
    {
      "cell_type": "code",
      "source": [
        "def newCharacter (chaine1,chaine2):\n",
        "  chaine=''\n",
        "  for i in range(len(chaine1)):\n",
        "    if i%2==0:chaine+=chaine1[i]\n",
        "    else :chaine+=chaine2[i]\n",
        "  return chaine\n",
        "print(newCharacter('AAAA','ACGT'))"
      ],
      "metadata": {
        "colab": {
          "base_uri": "https://localhost:8080/"
        },
        "id": "ZGx1jLRnr9mK",
        "outputId": "b433b79f-5ad5-4a10-b4bb-a278984092b6"
      },
      "execution_count": null,
      "outputs": [
        {
          "output_type": "stream",
          "name": "stdout",
          "text": [
            "ACAT\n"
          ]
        }
      ]
    },
    {
      "cell_type": "markdown",
      "source": [
        "D'après une science un peu douteuse, un décret stipule que si une séquence d’ADN contient un nombre pair de base azotée, alors il s’agit d’un être humain, si le nombre est impaire, il s’agit d’un impairidé (une nouvelle espèce).\n",
        "\n",
        "    D) Écrire une fonction isHuman qui prend en paramètre une séquence d’ADN et qui renvoie True si le nombre de base azotée est pair, sinon false.\n",
        "Exemple : isHuman(“ACCT”) retourne True\n",
        "Exemple : isHuman(“”) retourne True\n",
        "Exemple : isHuman(“ACC”) retourne False\n"
      ],
      "metadata": {
        "id": "qRMLEmQlwPBq"
      }
    },
    {
      "cell_type": "code",
      "source": [
        "def isHuman(chaine):\n",
        "  return len(chaine)%2==0\n",
        "print(isHuman('ACC'))"
      ],
      "metadata": {
        "colab": {
          "base_uri": "https://localhost:8080/"
        },
        "id": "0ODO8eMywUw_",
        "outputId": "ee2525f6-51ec-4937-b380-3828b4aec1dc"
      },
      "execution_count": null,
      "outputs": [
        {
          "output_type": "stream",
          "name": "stdout",
          "text": [
            "False\n"
          ]
        }
      ]
    },
    {
      "cell_type": "markdown",
      "source": [
        " F) Ecrire une fonction washHuman qui prend en paramètre une séquence d’ADN et qui renvoie cette même séquence « nettoyée » de tout ce qui n’est pas censé faire partie d’une séquence ADN (donc A, C, G ou T).\n",
        "Exemple : washHuman(‘ABCGT’) retourne ‘ACGT’\n",
        "Exemple : washHuman(‘BFK’) retourne ‘’\n",
        "Exemple : washHuman(‘ACGT’) retourne ‘ACGT’\n"
      ],
      "metadata": {
        "id": "rZ04-LOpwt_q"
      }
    },
    {
      "cell_type": "code",
      "source": [
        "def washHuman(chaine):\n",
        "  return ''.join(x for x in chaine if x in 'ATCG')\n",
        "print(washHuman('ACGFTAFJTKFC'))"
      ],
      "metadata": {
        "colab": {
          "base_uri": "https://localhost:8080/"
        },
        "id": "w09o4joCwx8h",
        "outputId": "84cb716a-68c9-4128-8749-b72dae9135d5"
      },
      "execution_count": null,
      "outputs": [
        {
          "output_type": "stream",
          "name": "stdout",
          "text": [
            "ACGTATC\n"
          ]
        }
      ]
    },
    {
      "cell_type": "markdown",
      "source": [
        "G) Écrire une fonction manuh qui fait le boulot des exemples ci dessous :\n",
        "Exemple : manuh(‘ACGT’) renvoie ‘TGCA’\n",
        "Exemple : manuh(‘AAAA’) renvoie ‘AAAA’\n",
        "Exemple : manuh(‘ATATG’) renvoie ‘GTATA’\n",
        "Exemple : manuh(‘’) renvoie ‘’\n",
        "Exemple : manuh(‘ABCGT’) renvoie ‘TGCA’\n",
        "Exemple : manuh(‘AATTCCGG’ renvoie ‘GGCCTTAA’\n"
      ],
      "metadata": {
        "id": "ZVEzFJP3xaF1"
      }
    },
    {
      "cell_type": "code",
      "source": [
        "def manuh(chaine):\n",
        "  return ''.join(reversed(chaine))\n",
        "manuh('‘ACGT’')"
      ],
      "metadata": {
        "colab": {
          "base_uri": "https://localhost:8080/",
          "height": 35
        },
        "id": "-doLCIhuxhMC",
        "outputId": "95da082b-23d7-4e07-ed71-c5a6d87b47f7"
      },
      "execution_count": null,
      "outputs": [
        {
          "output_type": "execute_result",
          "data": {
            "text/plain": [
              "'’TGCA‘'"
            ],
            "application/vnd.google.colaboratory.intrinsic+json": {
              "type": "string"
            }
          },
          "metadata": {},
          "execution_count": 73
        }
      ]
    },
    {
      "cell_type": "markdown",
      "source": [
        "fonction qui revoie le nom du jour associé à un numero"
      ],
      "metadata": {
        "id": "Jd_6bTHTiRAH"
      }
    },
    {
      "cell_type": "code",
      "source": [
        "def jourSemaine(nb):\n",
        "  semaine={1:\"lundi\",2:\"mardi\",3:\"mercredi\",4:\"jeudi\",5:'vendredi',6:'samedi',7:'dimanche'}\n",
        "  return semaine[nb] if nb in semaine.keys() else None\n",
        "print('le jour de la semaine est',jourSemaine(int(input('entre le numero du jour'))))"
      ],
      "metadata": {
        "colab": {
          "base_uri": "https://localhost:8080/"
        },
        "id": "Ff128e8TiWd1",
        "outputId": "23f04140-9475-472d-89ea-1976a807dc4a"
      },
      "execution_count": null,
      "outputs": [
        {
          "output_type": "stream",
          "name": "stdout",
          "text": [
            "entre le numero du jour5\n",
            "le jour de la semaine est vendredi\n"
          ]
        }
      ]
    },
    {
      "cell_type": "markdown",
      "source": [
        "Les dates de péremptions appelées DLC (Date limite de consommation) sont souvent des dates  approximatives. On supposera pour cet exercice que consommer un aliment 15j après ça date de  péremption n’est pas dangereux.\n",
        "Question 1 : Ecrire une fonction est_perime qui prend en paramètre 6 entiers. Les 3 premiers déterminent la date du jour, les 3 suivants la date de péremption. La fonction retournera True si le  produit et périmé, sinon False.\n"
      ],
      "metadata": {
        "id": "HZzgWPyUy2dU"
      }
    },
    {
      "cell_type": "code",
      "source": [
        "def est_perime(jourDate,moisDate,anneeDate,jourDLC,moisDLC,anneeDLC):\n",
        "  if moisDate ==2 :nombredate=jourDate+moisDate*28+anneeDate*365\n",
        "  elif moisDate in (4,6,9,11) :nombredate=jourDate+moisDate*30+anneeDate*365\n",
        "  else :nombredate=jourDate+moisDate*31+anneeDate*365\n",
        "  if moisDLC ==2 :nombreDLC=jourDLC+moisDLC*28+anneeDLC*365\n",
        "  elif moisDLC in (4,6,9,11) :nombreDLC=jourDLC+moisDLC*30+anneeDLC*365\n",
        "  else :nombreDLC=jourDLC+moisDLC*31+anneeDLC*365\n",
        "  return nombredate>nombreDLC\n",
        "est_perime(2,3,2020,1,3,2020)\n"
      ],
      "metadata": {
        "colab": {
          "base_uri": "https://localhost:8080/"
        },
        "id": "gC1CbtSVpPJF",
        "outputId": "d4096043-e7a1-4ed0-edc2-63028a676110"
      },
      "execution_count": null,
      "outputs": [
        {
          "output_type": "execute_result",
          "data": {
            "text/plain": [
              "True"
            ]
          },
          "metadata": {},
          "execution_count": 68
        }
      ]
    },
    {
      "cell_type": "markdown",
      "source": [
        "Question 2 : Ecrire une fonction est_perime qui prend en paramètre 6 entiers. Les 3 premiers  déterminent la date du jour, les 3 suivants la date de péremption. La fonction retourne True si le  produit est périmé de plus de 15j, sinon False."
      ],
      "metadata": {
        "id": "mkII7sZuylLk"
      }
    },
    {
      "cell_type": "code",
      "source": [
        "def est_perime(jourDate,moisDate,anneeDate,jourDLC,moisDLC,anneeDLC):\n",
        "  if moisDate ==2 :nombredate=jourDate+moisDate*28+anneeDate*365\n",
        "  elif moisDate in (4,6,9,11) :nombredate=jourDate+moisDate*30+anneeDate*365\n",
        "  else :nombredate=jourDate+moisDate*31+anneeDate*365\n",
        "  if moisDLC ==2 :nombreDLC=jourDLC+moisDLC*28+anneeDLC*365\n",
        "  elif moisDLC in (4,6,9,11) :nombreDLC=jourDLC+moisDLC*30+anneeDLC*365\n",
        "  else :nombreDLC=jourDLC+moisDLC*31+anneeDLC*365\n",
        "  return nombredate+15>nombreDLC\n",
        "est_perime(28,2,2020,15,3,2020)"
      ],
      "metadata": {
        "colab": {
          "base_uri": "https://localhost:8080/"
        },
        "id": "b6PBOrwkyl55",
        "outputId": "b226a0ec-7b4f-418c-d152-03e242d507b8"
      },
      "execution_count": null,
      "outputs": [
        {
          "output_type": "execute_result",
          "data": {
            "text/plain": [
              "False"
            ]
          },
          "metadata": {},
          "execution_count": 72
        }
      ]
    },
    {
      "cell_type": "markdown",
      "source": [
        "Les jeux olympiques modernes sont des événements sportifs internationaux majeurs,  regroupant les sports d’été et d’hiver, auxquels des milliers d’athlètes participent à travers différentes  compétitions.\n",
        "A l’origine, seuls les JO d’été existaient. Depuis 1896, les JO d’été ont lieu tous les 4 ans. Les  JO d’hiver ont été intégrés pour la première fois en 1924 la même année que les JO d’été. Quelques dates ont été annulées (1916, 1940, 1944 et 2020).\n",
        "Depuis 1994, les jeux ont lieu tous les 2 ans avec une alternance JO d’hiver, JO d’été. (1994,  JO d’hiver - 1996, JO d’été, etc…). Pour les questions ci-dessous, on considérera qu’il n’y a pas eu de  JO avant 1896.\n",
        "Question 1 : Ecrire une fonction yajeuxdete qui prend en paramètre une année et qui renvoie True s’il y  a les JO d’été cette année-là et False s’il n’y a pas les JO d’été.\n"
      ],
      "metadata": {
        "id": "JH-OsEd1lS9j"
      }
    },
    {
      "cell_type": "code",
      "source": [
        "def yajeuxdete(annee):\n",
        "  return ((annee-1896)%4==0 and annee not in (1916,1940,1944,2020) and annee>=1896 or annee==2021)\n",
        "print(yajeuxdete(2021))"
      ],
      "metadata": {
        "colab": {
          "base_uri": "https://localhost:8080/"
        },
        "id": "NZOHaY6NlTlt",
        "outputId": "d8c81972-bf36-40eb-cc37-4735754a5f58"
      },
      "execution_count": null,
      "outputs": [
        {
          "output_type": "stream",
          "name": "stdout",
          "text": [
            "True\n"
          ]
        }
      ]
    },
    {
      "cell_type": "markdown",
      "source": [
        "Question 2 : Ecrire une fonction yajeuxdhiver qui prend en paramètre une année et qui renvoie True s’il  y a les JO d’hiver cette année-là et False s’il n’y a pas les JO d’hiver."
      ],
      "metadata": {
        "id": "9jvGg0qlm-vL"
      }
    },
    {
      "cell_type": "code",
      "source": [
        "def yajeuxdhiver(annee):\n",
        "  if annee<1924 : return False\n",
        "  elif annee in range (1924,1994):\n",
        "    return True if (annee-1924)%4==0 and annee not in (1916,1940,1944) else False\n",
        "  else : return (annee-1994)%4==0\n",
        "print(yajeuxdhiver(2026))"
      ],
      "metadata": {
        "colab": {
          "base_uri": "https://localhost:8080/"
        },
        "id": "j3bQ_m6MnDi0",
        "outputId": "7945f2af-8163-45a2-c040-083aeda8d96d"
      },
      "execution_count": null,
      "outputs": [
        {
          "output_type": "stream",
          "name": "stdout",
          "text": [
            "True\n"
          ]
        }
      ]
    },
    {
      "cell_type": "markdown",
      "source": [
        "Question 3 : Ecrire une fonction yajeux qui prend en paramètre une année et qui renvoie True s’il y a  JO cette année-là et False s’il n’y a pas de jeux."
      ],
      "metadata": {
        "id": "KTLzQlIHpos9"
      }
    },
    {
      "cell_type": "code",
      "source": [
        "def yajeux(annee):\n",
        "  return ((annee>=1896 and (annee-1986)%4==0) or (annee>=1994 and (annee-1994)%2==0)) and annee not in (1916,1940,1944,2020) or annee==2021\n",
        "print(yajeux(2021))"
      ],
      "metadata": {
        "colab": {
          "base_uri": "https://localhost:8080/"
        },
        "id": "Fx7O-4GUpsDh",
        "outputId": "b70c2998-2b6b-4d0a-d54b-3da0f38f733a"
      },
      "execution_count": null,
      "outputs": [
        {
          "output_type": "stream",
          "name": "stdout",
          "text": [
            "True\n"
          ]
        }
      ]
    }
  ]
}