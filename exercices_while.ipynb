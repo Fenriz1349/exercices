{
  "cells": [
    {
      "cell_type": "markdown",
      "metadata": {
        "id": "view-in-github",
        "colab_type": "text"
      },
      "source": [
        "<a href=\"https://colab.research.google.com/github/Fenriz1349/exercices/blob/main/exercices_while.ipynb\" target=\"_parent\"><img src=\"https://colab.research.google.com/assets/colab-badge.svg\" alt=\"Open In Colab\"/></a>"
      ]
    },
    {
      "cell_type": "code",
      "execution_count": null,
      "metadata": {
        "colab": {
          "base_uri": "https://localhost:8080/"
        },
        "id": "_9sNatBhIXP8",
        "outputId": "c85b62db-63bd-4568-aa6e-767b1e46ee5d"
      },
      "outputs": [
        {
          "name": "stdout",
          "output_type": "stream",
          "text": [
            "Voici les nombres pairs :   1\n",
            "Voici les nombres pairs :   3\n",
            "Voici les nombres pairs :   5\n",
            "Voici les nombres pairs :   7\n",
            "Voici les nombres pairs :   9\n"
          ]
        }
      ],
      "source": [
        "i = 1\n",
        "while True:\n",
        "  print(\"Voici les nombres pairs :  \" , i)\n",
        "  i += 2"
      ]
    },
    {
      "cell_type": "code",
      "execution_count": null,
      "metadata": {
        "colab": {
          "base_uri": "https://localhost:8080/"
        },
        "id": "A0S107UtUROy",
        "outputId": "6bb20ed5-1f53-4f5a-a5b7-bfb8dfb0cff6"
      },
      "outputs": [
        {
          "name": "stdout",
          "output_type": "stream",
          "text": [
            "0\n",
            "1\n",
            "2\n",
            "3\n",
            "4\n",
            "5\n",
            "6\n",
            "7\n",
            "8\n",
            "9\n",
            "10\n",
            "11\n",
            "12\n",
            "13\n",
            "14\n",
            "15\n",
            "16\n",
            "17\n",
            "18\n",
            "19\n",
            "20\n"
          ]
        }
      ],
      "source": [
        "def affichecompteur(n):\n",
        "  a = 0\n",
        "  while a <= n:\n",
        "    print(a)\n",
        "    a +=1\n",
        "\n",
        "affichecompteur(20)"
      ]
    },
    {
      "cell_type": "code",
      "execution_count": null,
      "metadata": {
        "colab": {
          "base_uri": "https://localhost:8080/"
        },
        "id": "6hlEez2BVkum",
        "outputId": "130b5468-ec04-4c18-b5b6-b4b27379f275"
      },
      "outputs": [
        {
          "name": "stdout",
          "output_type": "stream",
          "text": [
            "1\n",
            "3\n",
            "5\n",
            "7\n",
            "9\n",
            "11\n",
            "13\n",
            "15\n",
            "17\n",
            "19\n"
          ]
        }
      ],
      "source": [
        "def affichenombreimpair(n):\n",
        "  a = 1\n",
        "  while a <= n:\n",
        "    print(a)\n",
        "    a+=2\n",
        "\n",
        "affichenombreimpair(20)"
      ]
    },
    {
      "cell_type": "code",
      "execution_count": null,
      "metadata": {
        "colab": {
          "base_uri": "https://localhost:8080/"
        },
        "id": "FaYa5bLfXc6n",
        "outputId": "b3ded341-9548-4a98-8d6e-3284b5529d29"
      },
      "outputs": [
        {
          "name": "stdout",
          "output_type": "stream",
          "text": [
            "10\n",
            "9\n",
            "8\n",
            "7\n",
            "6\n",
            "5\n",
            "4\n",
            "3\n",
            "2\n",
            "1\n"
          ]
        }
      ],
      "source": [
        "def sensinverse(nombre):\n",
        "  while (nombre >= 0):\n",
        "    print(nombre)\n",
        "    nombre -= 1\n",
        "\n",
        "sensinverse(10)"
      ]
    },
    {
      "cell_type": "code",
      "execution_count": null,
      "metadata": {
        "colab": {
          "base_uri": "https://localhost:8080/"
        },
        "id": "OVroHGbZYiKW",
        "outputId": "33c5e3ab-0afa-44a6-8a68-88f4377de87e"
      },
      "outputs": [
        {
          "name": "stdout",
          "output_type": "stream",
          "text": [
            "55\n"
          ]
        }
      ],
      "source": [
        "def somme(n):\n",
        "  s = 0\n",
        "  i = 1\n",
        "  while (i <= n):\n",
        "    s = s + i\n",
        "    i = i + 1\n",
        "  print(s)\n",
        "\n",
        "somme(10)"
      ]
    },
    {
      "cell_type": "code",
      "execution_count": null,
      "metadata": {
        "id": "XnbKHSQ5Y6Sj"
      },
      "outputs": [],
      "source": [
        "i = 1\n",
        "somme_tt = 0\n",
        "def somme(i,n,somme_tt):\n",
        "  while i < n:\n",
        "    print(\"on ajoute : \", i)\n",
        "    i = i + 1\n",
        "    somme_tt = somme_tt + i\n",
        "  return print(somme_tt)"
      ]
    },
    {
      "cell_type": "code",
      "execution_count": null,
      "metadata": {
        "colab": {
          "base_uri": "https://localhost:8080/"
        },
        "id": "eV7mabE6wupW",
        "outputId": "6fdf0393-a376-424b-a550-ba7359666ab6"
      },
      "outputs": [
        {
          "name": "stdout",
          "output_type": "stream",
          "text": [
            "5 x 1  =  5\n",
            "5 x 2  =  10\n",
            "5 x 3  =  15\n",
            "5 x 4  =  20\n",
            "5 x 5  =  25\n",
            "5 x 6  =  30\n",
            "5 x 7  =  35\n",
            "5 x 8  =  40\n",
            "5 x 9  =  45\n",
            "5 x 10  =  50\n"
          ]
        }
      ],
      "source": [
        "def multi(n):\n",
        "  i = 1\n",
        "  while i <= 10:\n",
        "    resultat = n * i\n",
        "    print(n ,\"x\",i, \" = \", resultat)\n",
        "    i += 1\n",
        "\n",
        "multi(5)"
      ]
    },
    {
      "cell_type": "code",
      "execution_count": null,
      "metadata": {
        "colab": {
          "base_uri": "https://localhost:8080/"
        },
        "id": "TLcEsfs9yIC_",
        "outputId": "21f699d2-399d-4c38-f855-26b9b60346d2"
      },
      "outputs": [
        {
          "name": "stdout",
          "output_type": "stream",
          "text": [
            "5  x 4  x 3  x 2  x =120\n"
          ]
        }
      ],
      "source": [
        "def fact(n):\n",
        "  f = 1\n",
        "  while n > 1:\n",
        "    print(n ,' x ', end = '')\n",
        "    f *= n\n",
        "    n -= 1\n",
        "  print('=', end='')\n",
        "  print(f)\n",
        "\n",
        "fact(5)"
      ]
    }
  ],
  "metadata": {
    "colab": {
      "provenance": [],
      "include_colab_link": true
    },
    "kernelspec": {
      "display_name": "Python 3",
      "name": "python3"
    },
    "language_info": {
      "name": "python"
    }
  },
  "nbformat": 4,
  "nbformat_minor": 0
}